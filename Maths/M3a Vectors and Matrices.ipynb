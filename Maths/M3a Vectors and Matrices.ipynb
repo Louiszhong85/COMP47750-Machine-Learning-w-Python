{
 "cells": [
  {
   "cell_type": "markdown",
   "id": "ab45863f",
   "metadata": {},
   "source": [
    "# Vectors and Matrices in Python\n",
    "This notebook is part of a collection of supplementary material designed to bring student up to speed on the mathematics required for COMP47750 Mathematics with Python.   \n",
    "This notebook introduces the basics of matrix multiplication and eigenvalue decomposition.  \n",
    "This material is covered in the lecture **M3 Matrices**. "
   ]
  },
  {
   "cell_type": "code",
   "execution_count": null,
   "id": "b3ac1d79",
   "metadata": {},
   "outputs": [],
   "source": [
    "import numpy as np\n",
    "import scipy\n",
    "import pandas as pd\n",
    "from scipy.sparse.csgraph import laplacian\n",
    "import matplotlib.pyplot as plt \n",
    "import networkx as nx\n",
    "from networkx.drawing.nx_agraph import graphviz_layout\n",
    "%matplotlib inline"
   ]
  },
  {
   "cell_type": "markdown",
   "id": "c32f68c6",
   "metadata": {},
   "source": [
    "Pre-multiplying a vector `p1` by matrix `moves`"
   ]
  },
  {
   "cell_type": "code",
   "execution_count": null,
   "id": "e30781d0",
   "metadata": {},
   "outputs": [],
   "source": [
    "moves = np.array([[0.6,0.1,0.1],\n",
    "                  [0.2,0.7,0.3],\n",
    "                  [0.2,0.2,0.6],\n",
    "                 ])"
   ]
  },
  {
   "cell_type": "code",
   "execution_count": null,
   "id": "84a6b9dc",
   "metadata": {},
   "outputs": [],
   "source": [
    "p1 =  np.array([30,20,35])"
   ]
  },
  {
   "cell_type": "code",
   "execution_count": null,
   "id": "dccb22a7",
   "metadata": {},
   "outputs": [],
   "source": [
    "p2 = moves.dot(p1)\n",
    "p2"
   ]
  },
  {
   "cell_type": "markdown",
   "id": "efa9b008",
   "metadata": {},
   "source": [
    "If we repeatedly pre-multiply a vector by a matrix it converges to an eigenvector of that matrix. "
   ]
  },
  {
   "cell_type": "code",
   "execution_count": null,
   "id": "cc594d75",
   "metadata": {},
   "outputs": [],
   "source": [
    "p = p1\n",
    "for it in range(1,9):\n",
    "    p = moves.dot(p)\n",
    "    print('p%d' % (it),np.around(p,1))"
   ]
  },
  {
   "cell_type": "markdown",
   "id": "2ca2a94a",
   "metadata": {},
   "source": [
    "Using `np.linalg.eig` to get the eigenvectors and eigenvalues of the matrix `moves`."
   ]
  },
  {
   "cell_type": "code",
   "execution_count": null,
   "id": "796324d8",
   "metadata": {},
   "outputs": [],
   "source": [
    "e_val, e_vec = np.linalg.eig(moves)\n",
    "e_val"
   ]
  },
  {
   "cell_type": "markdown",
   "id": "7197ce13",
   "metadata": {},
   "source": [
    "The eigenvectors are columns in the `e_vec` matrix. "
   ]
  },
  {
   "cell_type": "code",
   "execution_count": null,
   "id": "c98b09c6",
   "metadata": {},
   "outputs": [],
   "source": [
    "np.around(e_vec,2) # round floats to 2 decimal places"
   ]
  },
  {
   "cell_type": "markdown",
   "id": "c8200dfb",
   "metadata": {},
   "source": [
    "Accessing a single eigenvector"
   ]
  },
  {
   "cell_type": "code",
   "execution_count": null,
   "id": "8a220ba3",
   "metadata": {
    "scrolled": true
   },
   "outputs": [],
   "source": [
    "e_vec[:,0]"
   ]
  },
  {
   "cell_type": "markdown",
   "id": "f5548b21",
   "metadata": {},
   "source": [
    "## Web Pages example\n",
    "A network showing the links between 5 web pages.  \n",
    "This network is shown as a graph in lecture **M3 Matrices**.     \n",
    "Entry `(i,j)` indicates an edge from `j` to `i`. "
   ]
  },
  {
   "cell_type": "code",
   "execution_count": null,
   "id": "6646ef77",
   "metadata": {},
   "outputs": [],
   "source": [
    "wp = np.array([[0, 0, 0, 0, 1],\n",
    "               [1, 0, 0, 0, 0],\n",
    "               [0, 1, 0, 0, 1],\n",
    "               [0, 0, 1, 0, 0],\n",
    "               [1, 1, 1, 1, 0]]\n",
    "             )"
   ]
  },
  {
   "cell_type": "markdown",
   "id": "23346612",
   "metadata": {},
   "source": [
    "The eigenvector corresponding to the largest eigenvalue indicates the probabilities of a random walk ending up on one of the pages.  \n",
    "The final page (E) is the most central."
   ]
  },
  {
   "cell_type": "code",
   "execution_count": null,
   "id": "ae92bad1",
   "metadata": {},
   "outputs": [],
   "source": [
    "e_val, e_vec = np.linalg.eig(wp)\n",
    "np.around(e_vec[:,0].real,2)"
   ]
  },
  {
   "cell_type": "code",
   "execution_count": null,
   "id": "18c5249a",
   "metadata": {},
   "outputs": [],
   "source": [
    "np.around(e_vec.real,2)"
   ]
  },
  {
   "cell_type": "markdown",
   "id": "85271f42",
   "metadata": {},
   "source": [
    "## Symmetric Matrices\n",
    "`wp_sim` is the un_directed version of `wp`.  \n",
    "The edges don't have a direction so `wp_sim(i,j) = wp_sim(j,i)`."
   ]
  },
  {
   "cell_type": "code",
   "execution_count": null,
   "id": "9d4ee538",
   "metadata": {},
   "outputs": [],
   "source": [
    "wp_sim = np.array([[0, 1, 0, 0, 1],\n",
    "                   [1, 0, 1, 0, 1],\n",
    "                   [0, 1, 0, 1, 1],\n",
    "                   [0, 0, 1, 0, 1],\n",
    "                   [1, 1, 1, 1, 0]]\n",
    "             )"
   ]
  },
  {
   "cell_type": "code",
   "execution_count": null,
   "id": "3b3f8067",
   "metadata": {},
   "outputs": [],
   "source": [
    "e_val, e_vec = np.linalg.eig(wp_sim)"
   ]
  },
  {
   "cell_type": "code",
   "execution_count": null,
   "id": "2f2a7e15",
   "metadata": {},
   "outputs": [],
   "source": [
    "e_val"
   ]
  },
  {
   "cell_type": "code",
   "execution_count": null,
   "id": "98a4ac37",
   "metadata": {},
   "outputs": [],
   "source": [
    "np.around(e_vec,2)"
   ]
  },
  {
   "cell_type": "markdown",
   "id": "5b67bac9",
   "metadata": {},
   "source": [
    "Because this matrix is symmetric, the eigenvectors are basis vectors.  \n",
    "That is, they are orthogonal to each other, their dot products are 0."
   ]
  },
  {
   "cell_type": "code",
   "execution_count": null,
   "id": "211bf3dd",
   "metadata": {},
   "outputs": [],
   "source": [
    "e_vec[:,0].dot(e_vec[:,1])"
   ]
  },
  {
   "cell_type": "code",
   "execution_count": null,
   "id": "b938d047",
   "metadata": {},
   "outputs": [],
   "source": [
    "np.around(e_vec.dot(e_vec.T),2)"
   ]
  },
  {
   "cell_type": "markdown",
   "id": "df7c8daf",
   "metadata": {},
   "source": [
    "This is not true for matrices that are not symmetric, e.g. `wp`."
   ]
  },
  {
   "cell_type": "code",
   "execution_count": null,
   "id": "221f03ff",
   "metadata": {},
   "outputs": [],
   "source": [
    "e_val, e_vec = np.linalg.eig(wp)\n",
    "e_vec[:,0].dot(e_vec[:,1])"
   ]
  },
  {
   "cell_type": "markdown",
   "id": "5f0f1c3c",
   "metadata": {},
   "source": [
    "## Rectangular Term Document Matrices\n",
    "Term x document matrix (rows are terms).  \n",
    "12 terms  \n",
    "9 documents\n",
    "From this we can produce two symmetric square matrices by multiplying by the transpose.  \n",
    "  - a 12x12 term co-occurrence matrix\n",
    "  - a 9x9 document similarity matrix (shared terms)"
   ]
  },
  {
   "cell_type": "code",
   "execution_count": null,
   "id": "66aa76d1",
   "metadata": {},
   "outputs": [],
   "source": [
    "X = np.array([[1,0,0,1,0,0,0,0,0],\n",
    "              [1,0,1,0,0,0,0,0,0],\n",
    "              [1,1,0,0,0,0,0,0,0],\n",
    "              [0,1,1,0,1,0,0,0,0],\n",
    "              [0,1,1,2,0,0,0,0,0],\n",
    "              [0,1,0,0,1,0,0,0,0],\n",
    "              [0,1,0,0,1,0,0,0,0],\n",
    "              [0,0,1,1,0,0,0,0,0],\n",
    "              [0,1,0,0,0,0,0,0,1],\n",
    "              [0,0,0,0,0,1,1,1,0],\n",
    "              [0,0,0,0,0,0,1,1,1],\n",
    "              [0,0,0,0,0,0,0,1,1]]\n",
    "            )\n",
    "X.shape"
   ]
  },
  {
   "cell_type": "code",
   "execution_count": null,
   "id": "8f88c260",
   "metadata": {
    "scrolled": true
   },
   "outputs": [],
   "source": [
    "X.T"
   ]
  },
  {
   "cell_type": "code",
   "execution_count": null,
   "id": "f1b06c17",
   "metadata": {},
   "outputs": [],
   "source": [
    "XT = X.T"
   ]
  },
  {
   "cell_type": "markdown",
   "id": "033bbe0c",
   "metadata": {},
   "source": [
    "Term co-occurrence matrix   \n",
    "Entries in this matrix are dot products of rows in `X`"
   ]
  },
  {
   "cell_type": "code",
   "execution_count": null,
   "id": "f5a2ef77",
   "metadata": {},
   "outputs": [],
   "source": [
    "XdotXT = X.dot(XT)\n",
    "XdotXT.shape"
   ]
  },
  {
   "cell_type": "code",
   "execution_count": null,
   "id": "73054c77",
   "metadata": {},
   "outputs": [],
   "source": [
    "XdotXT"
   ]
  },
  {
   "cell_type": "markdown",
   "id": "00f79987",
   "metadata": {},
   "source": [
    "Document similarity matrix - based on shared terms. "
   ]
  },
  {
   "cell_type": "code",
   "execution_count": null,
   "id": "27fbfad3",
   "metadata": {},
   "outputs": [],
   "source": [
    "XTdotX = XT.dot(X)\n",
    "XTdotX.shape"
   ]
  },
  {
   "cell_type": "code",
   "execution_count": null,
   "id": "c6eaf6ae",
   "metadata": {},
   "outputs": [],
   "source": [
    "XTdotX"
   ]
  }
 ],
 "metadata": {
  "kernelspec": {
   "display_name": "Python 3",
   "language": "python",
   "name": "python3"
  },
  "language_info": {
   "codemirror_mode": {
    "name": "ipython",
    "version": 3
   },
   "file_extension": ".py",
   "mimetype": "text/x-python",
   "name": "python",
   "nbconvert_exporter": "python",
   "pygments_lexer": "ipython3",
   "version": "3.8.8"
  }
 },
 "nbformat": 4,
 "nbformat_minor": 5
}
