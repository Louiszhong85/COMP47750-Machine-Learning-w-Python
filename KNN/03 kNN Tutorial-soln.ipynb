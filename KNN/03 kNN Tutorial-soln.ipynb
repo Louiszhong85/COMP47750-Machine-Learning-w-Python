{
 "cells": [
  {
   "cell_type": "markdown",
   "metadata": {
    "pycharm": {
     "name": "#%% md\n"
    }
   },
   "source": [
    "# k-NN Tutorial\n",
    "The default similarity metric for k-NN is Euclidean distance.  \n",
    "In some circumstances other metrics (or measures) will be more appropriate - for instance correlation.  \n",
    "## Household Budget  \n",
    "In the example here where households are classified based on how budget is allocated, correlation would be a better measure of similarity.   \n",
    "The objective here is to replace Euclidean distance with correlation when selecting neighbours."
   ]
  },
  {
   "cell_type": "code",
   "execution_count": 1,
   "metadata": {
    "pycharm": {
     "name": "#%%\n"
    }
   },
   "outputs": [
    {
     "data": {
      "text/html": [
       "<div>\n",
       "<style scoped>\n",
       "    .dataframe tbody tr th:only-of-type {\n",
       "        vertical-align: middle;\n",
       "    }\n",
       "\n",
       "    .dataframe tbody tr th {\n",
       "        vertical-align: top;\n",
       "    }\n",
       "\n",
       "    .dataframe thead th {\n",
       "        text-align: right;\n",
       "    }\n",
       "</style>\n",
       "<table border=\"1\" class=\"dataframe\">\n",
       "  <thead>\n",
       "    <tr style=\"text-align: right;\">\n",
       "      <th></th>\n",
       "      <th>Groceries</th>\n",
       "      <th>Education</th>\n",
       "      <th>Travel</th>\n",
       "      <th>Category</th>\n",
       "    </tr>\n",
       "    <tr>\n",
       "      <th>Household</th>\n",
       "      <th></th>\n",
       "      <th></th>\n",
       "      <th></th>\n",
       "      <th></th>\n",
       "    </tr>\n",
       "  </thead>\n",
       "  <tbody>\n",
       "    <tr>\n",
       "      <th>H1</th>\n",
       "      <td>2000</td>\n",
       "      <td>4000</td>\n",
       "      <td>500</td>\n",
       "      <td>C1</td>\n",
       "    </tr>\n",
       "    <tr>\n",
       "      <th>H2</th>\n",
       "      <td>3000</td>\n",
       "      <td>6000</td>\n",
       "      <td>1000</td>\n",
       "      <td>C1</td>\n",
       "    </tr>\n",
       "    <tr>\n",
       "      <th>H3</th>\n",
       "      <td>2000</td>\n",
       "      <td>2000</td>\n",
       "      <td>2000</td>\n",
       "      <td>C2</td>\n",
       "    </tr>\n",
       "    <tr>\n",
       "      <th>H4</th>\n",
       "      <td>3000</td>\n",
       "      <td>3000</td>\n",
       "      <td>3000</td>\n",
       "      <td>C2</td>\n",
       "    </tr>\n",
       "  </tbody>\n",
       "</table>\n",
       "</div>"
      ],
      "text/plain": [
       "           Groceries  Education  Travel Category\n",
       "Household                                       \n",
       "H1              2000       4000     500       C1\n",
       "H2              3000       6000    1000       C1\n",
       "H3              2000       2000    2000       C2\n",
       "H4              3000       3000    3000       C2"
      ]
     },
     "execution_count": 1,
     "metadata": {},
     "output_type": "execute_result"
    }
   ],
   "source": [
    "import pandas as pd\n",
    "import numpy as np\n",
    "import time\n",
    "\n",
    "from sklearn.neighbors import KNeighborsClassifier\n",
    "from sklearn import preprocessing\n",
    "from sklearn.model_selection import train_test_split\n",
    "\n",
    "house = pd.read_csv('Household.csv',index_col = 'Household')\n",
    "house.head()"
   ]
  },
  {
   "cell_type": "code",
   "execution_count": 2,
   "metadata": {
    "pycharm": {
     "name": "#%%\n"
    }
   },
   "outputs": [
    {
     "data": {
      "text/plain": [
       "array([2000, 4000,  500])"
      ]
     },
     "execution_count": 2,
     "metadata": {},
     "output_type": "execute_result"
    }
   ],
   "source": [
    "y = house.pop('Category').values\n",
    "X = house.values\n",
    "X[0]"
   ]
  },
  {
   "cell_type": "code",
   "execution_count": 3,
   "metadata": {
    "pycharm": {
     "name": "#%%\n"
    }
   },
   "outputs": [],
   "source": [
    "q = [2500,3500,2000]\n",
    "house2 = house.copy()\n",
    "house2.loc['query'] = q"
   ]
  },
  {
   "cell_type": "code",
   "execution_count": 4,
   "metadata": {
    "pycharm": {
     "name": "#%%\n"
    }
   },
   "outputs": [
    {
     "data": {
      "text/html": [
       "<div>\n",
       "<style scoped>\n",
       "    .dataframe tbody tr th:only-of-type {\n",
       "        vertical-align: middle;\n",
       "    }\n",
       "\n",
       "    .dataframe tbody tr th {\n",
       "        vertical-align: top;\n",
       "    }\n",
       "\n",
       "    .dataframe thead th {\n",
       "        text-align: right;\n",
       "    }\n",
       "</style>\n",
       "<table border=\"1\" class=\"dataframe\">\n",
       "  <thead>\n",
       "    <tr style=\"text-align: right;\">\n",
       "      <th></th>\n",
       "      <th>Groceries</th>\n",
       "      <th>Education</th>\n",
       "      <th>Travel</th>\n",
       "    </tr>\n",
       "    <tr>\n",
       "      <th>Household</th>\n",
       "      <th></th>\n",
       "      <th></th>\n",
       "      <th></th>\n",
       "    </tr>\n",
       "  </thead>\n",
       "  <tbody>\n",
       "    <tr>\n",
       "      <th>H1</th>\n",
       "      <td>2000</td>\n",
       "      <td>4000</td>\n",
       "      <td>500</td>\n",
       "    </tr>\n",
       "    <tr>\n",
       "      <th>H2</th>\n",
       "      <td>3000</td>\n",
       "      <td>6000</td>\n",
       "      <td>1000</td>\n",
       "    </tr>\n",
       "    <tr>\n",
       "      <th>H3</th>\n",
       "      <td>2000</td>\n",
       "      <td>2000</td>\n",
       "      <td>2000</td>\n",
       "    </tr>\n",
       "    <tr>\n",
       "      <th>H4</th>\n",
       "      <td>3000</td>\n",
       "      <td>3000</td>\n",
       "      <td>3000</td>\n",
       "    </tr>\n",
       "    <tr>\n",
       "      <th>query</th>\n",
       "      <td>2500</td>\n",
       "      <td>3500</td>\n",
       "      <td>2000</td>\n",
       "    </tr>\n",
       "  </tbody>\n",
       "</table>\n",
       "</div>"
      ],
      "text/plain": [
       "           Groceries  Education  Travel\n",
       "Household                              \n",
       "H1              2000       4000     500\n",
       "H2              3000       6000    1000\n",
       "H3              2000       2000    2000\n",
       "H4              3000       3000    3000\n",
       "query           2500       3500    2000"
      ]
     },
     "execution_count": 4,
     "metadata": {},
     "output_type": "execute_result"
    }
   ],
   "source": [
    "house2"
   ]
  },
  {
   "cell_type": "code",
   "execution_count": 5,
   "metadata": {
    "pycharm": {
     "name": "#%%\n"
    }
   },
   "outputs": [
    {
     "data": {
      "text/plain": [
       "<AxesSubplot:>"
      ]
     },
     "execution_count": 5,
     "metadata": {},
     "output_type": "execute_result"
    },
    {
     "data": {
      "image/png": "[encoded data removed]",
      "text/plain": [
       "<Figure size 432x288 with 1 Axes>"
      ]
     },
     "metadata": {
      "needs_background": "light"
     },
     "output_type": "display_data"
    }
   ],
   "source": [
    "%matplotlib inline\n",
    "house2.T.plot()"
   ]
  },
  {
   "cell_type": "code",
   "execution_count": 6,
   "metadata": {
    "pycharm": {
     "name": "#%%\n"
    }
   },
   "outputs": [
    {
     "data": {
      "text/plain": [
       "KNeighborsClassifier(n_neighbors=1)"
      ]
     },
     "execution_count": 6,
     "metadata": {},
     "output_type": "execute_result"
    }
   ],
   "source": [
    "house_kNN = KNeighborsClassifier(n_neighbors=1) \n",
    "house_kNN.fit(X,y)"
   ]
  },
  {
   "cell_type": "code",
   "execution_count": 7,
   "metadata": {
    "pycharm": {
     "name": "#%%\n"
    }
   },
   "outputs": [
    {
     "name": "stdout",
     "output_type": "stream",
     "text": [
      "Query is classified as C2\n"
     ]
    }
   ],
   "source": [
    "print('Query is classified as',house_kNN.predict([q])[0] )"
   ]
  },
  {
   "cell_type": "markdown",
   "metadata": {
    "pycharm": {
     "name": "#%% md\n"
    }
   },
   "source": [
    "---\n",
    "**Q4**   \n",
    "Change the metric used by k-NN to correlation to see if it will predict the other class."
   ]
  },
  {
   "cell_type": "code",
   "execution_count": 8,
   "metadata": {
    "pycharm": {
     "name": "#%%\n"
    }
   },
   "outputs": [
    {
     "name": "stdout",
     "output_type": "stream",
     "text": [
      "Query is classified as C1\n"
     ]
    }
   ],
   "source": [
    "house_C_kNN = KNeighborsClassifier(n_neighbors=1, metric='correlation') \n",
    "house_C_kNN.fit(X,y)\n",
    "print('Query is classified as',house_C_kNN.predict([q])[0] )"
   ]
  },
  {
   "cell_type": "markdown",
   "metadata": {
    "pycharm": {
     "name": "#%% md\n"
    }
   },
   "source": [
    "---\n",
    "**Q5**   \n",
    "In the Data Normalisation example in the 02-kNN Notebook replace the N(0,1) scaler with a min-max scaler. "
   ]
  },
  {
   "cell_type": "code",
   "execution_count": 9,
   "metadata": {
    "pycharm": {
     "name": "#%%\n"
    }
   },
   "outputs": [],
   "source": [
    "athlete = pd.read_csv('AthleteSelection.csv',index_col = 'Athlete')\n",
    "y = athlete.pop('Selected').values\n",
    "X = athlete.values\n",
    "names = athlete.index\n",
    "q = [5.0,7.5]"
   ]
  },
  {
   "cell_type": "code",
   "execution_count": 10,
   "metadata": {
    "pycharm": {
     "name": "#%%\n"
    }
   },
   "outputs": [
    {
     "data": {
      "text/plain": [
       "array([[0.48      , 0.73333333]])"
      ]
     },
     "execution_count": 10,
     "metadata": {},
     "output_type": "execute_result"
    }
   ],
   "source": [
    "from sklearn import preprocessing\n",
    "mm_scaler = preprocessing.MinMaxScaler().fit(X)\n",
    "X_scaled = mm_scaler.transform(X)\n",
    "q_scaled = mm_scaler.transform([q])\n",
    "q_scaled"
   ]
  },
  {
   "cell_type": "code",
   "execution_count": 11,
   "metadata": {
    "pycharm": {
     "name": "#%%\n"
    }
   },
   "outputs": [
    {
     "data": {
      "image/png": "[encoded data removed]",
      "text/plain": [
       "<Figure size 576x360 with 1 Axes>"
      ]
     },
     "metadata": {
      "needs_background": "light"
     },
     "output_type": "display_data"
    }
   ],
   "source": [
    "import matplotlib.pyplot as plt\n",
    "import matplotlib.patches as mpatches\n",
    "color= ['red' if l == 0 else 'green' for l in y]\n",
    "x1 = X_scaled[:,0]\n",
    "x2 = X_scaled[:,1]\n",
    "plt.figure(figsize=(8,5))\n",
    "plt.scatter(x1,x2, color=color)\n",
    "plt.scatter(q_scaled[0,0],q_scaled[0,1],color='black')\n",
    "plt.annotate('q',(q_scaled[0,0]+0.02,q_scaled[0,1]))\n",
    "plt.title(\"Athlete Selection (Normalized)\")\n",
    "plt.xlabel(\"Speed (Scaled)\")\n",
    "plt.ylabel(\"Agility (Scaled)\")\n",
    "plt.grid()\n",
    "red_patch = mpatches.Patch(color='red', label='Not Selected')\n",
    "blue_patch = mpatches.Patch(color='green', label='Selected')\n",
    "plt.legend(handles=[red_patch, blue_patch],loc=4)\n",
    "for i, txt in enumerate(names):\n",
    "    plt.annotate(txt, (x1[i]+0.02, x2[i]))"
   ]
  },
  {
   "cell_type": "markdown",
   "metadata": {
    "pycharm": {
     "name": "#%% md\n"
    }
   },
   "source": [
    "**Q6**  \n",
    "The code below loads the HTRU dataset from the UCI repository (https://archive.ics.uci.edu/ml/datasets/HTRU2).    \n",
    "This dataset is divided into train and test sets and scaled.  \n",
    "Then a *k*NN classifier is trained and tested. The time to classify the test data is also recorded.   \n",
    "`scikit-learn` provides two strategies to speed up *k*-NN, `ball_tree` and `kd_tree`.  \n",
    "Compare the performance of these two algorithms with brute force search `brute`."
   ]
  },
  {
   "cell_type": "code",
   "execution_count": 12,
   "metadata": {
    "pycharm": {
     "name": "#%%\n"
    }
   },
   "outputs": [],
   "source": [
    "# Load HTRU dataset\n",
    "h_names = ['X1','X2','X3','X4','X5','X6','X7','X8','Class']\n",
    "HTRU_df = pd.read_csv('HTRU_2.csv',index_col = False,names = h_names)\n",
    "HTRU_df = HTRU_df.sample(frac=1)\n",
    "    \n",
    "y = HTRU_df.pop('Class').values\n",
    "X_raw = HTRU_df.values\n",
    "\n",
    "X_tr_raw, X_ts_raw, y_train, y_test = train_test_split(X_raw, y, test_size=2/3)\n",
    "\n",
    "scaler = preprocessing.StandardScaler().fit(X_tr_raw) #A scaler object\n",
    "X_train = scaler.transform(X_tr_raw)\n",
    "X_test = scaler.transform(X_ts_raw)"
   ]
  },
  {
   "cell_type": "code",
   "execution_count": 13,
   "metadata": {
    "pycharm": {
     "name": "#%%\n"
    }
   },
   "outputs": [],
   "source": [
    "algs = ['brute', 'ball_tree', 'kd_tree']\n"
   ]
  },
  {
   "cell_type": "code",
   "execution_count": 14,
   "metadata": {
    "pycharm": {
     "name": "#%%\n"
    }
   },
   "outputs": [
    {
     "name": "stdout",
     "output_type": "stream",
     "text": [
      "Time:  1.40 Accuracy:  0.98, Algorithm: brute\n",
      "Time:  0.37 Accuracy:  0.98, Algorithm: ball_tree\n",
      "Time:  0.26 Accuracy:  0.98, Algorithm: kd_tree\n"
     ]
    }
   ],
   "source": [
    "for alg in algs:\n",
    "    HTRU_kNN = KNeighborsClassifier(n_neighbors=3, algorithm = alg) \n",
    "    HTRU_kNN.fit(X_train,y_train)\n",
    "    t_start = time.time()       \n",
    "    acc = HTRU_kNN.score(X_test,y_test)\n",
    "    t = time.time()-t_start\n",
    "    print('Time: %5.2f Accuracy: %5.2f, Algorithm: %s' % (t, acc, alg))"
   ]
  },
  {
   "cell_type": "code",
   "execution_count": null,
   "metadata": {},
   "outputs": [],
   "source": []
  }
 ],
 "metadata": {
  "kernelspec": {
   "display_name": "Python 3 (ipykernel)",
   "language": "python",
   "name": "python3"
  },
  "language_info": {
   "codemirror_mode": {
    "name": "ipython",
    "version": 3
   },
   "file_extension": ".py",
   "mimetype": "text/x-python",
   "name": "python",
   "nbconvert_exporter": "python",
   "pygments_lexer": "ipython3",
   "version": "3.9.12"
  }
 },
 "nbformat": 4,
 "nbformat_minor": 2
}
