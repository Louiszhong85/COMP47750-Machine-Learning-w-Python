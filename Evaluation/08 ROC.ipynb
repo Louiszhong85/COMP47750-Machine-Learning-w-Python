{
 "cells": [
  {
   "cell_type": "markdown",
   "metadata": {
    "pycharm": {
     "name": "#%% md\n"
    }
   },
   "source": [
    "# ROC Curves & AUC metrics\n",
    "Here we use the `roc_curve` and `auc` faciities in scikit learn to plot some AUC curves.  \n",
    "- For GaussianNB we use the `predict_proba` method to get scores that can be ranked.  \n",
    "- For SVC we use the `decision_function` method.  "
   ]
  },
  {
   "cell_type": "code",
   "execution_count": 13,
   "metadata": {
    "pycharm": {
     "name": "#%%\n"
    }
   },
   "outputs": [],
   "source": [
    "import pandas as pd\n",
    "from sklearn.naive_bayes import GaussianNB\n",
    "from sklearn.svm import SVC, LinearSVC\n",
    "from sklearn.preprocessing import StandardScaler\n",
    "from sklearn.metrics import roc_curve, auc\n",
    "from sklearn.model_selection import train_test_split"
   ]
  },
  {
   "cell_type": "code",
   "execution_count": 14,
   "metadata": {
    "pycharm": {
     "name": "#%%\n"
    }
   },
   "outputs": [
    {
     "data": {
      "text/plain": "   hotelId  aveHelpfulnessRatioUser  stdevHelpfulnessRatioUser  \\\n0    17420                 1.000000                   0.000000   \n1     1397                 0.772487                   0.377321   \n2     1348                 0.715473                   0.300437   \n3     5940                 0.521250                   0.481675   \n4       38                 0.603175                   0.246926   \n\n   pcReviewsExceedMinHelpfulnessSupport  numReviewsUser  numReviewsHotel  \\\n0                              0.666667               3               16   \n1                              0.500000              12              233   \n2                              0.833333              12              302   \n3                              0.222222              36                6   \n4                              1.000000               2              271   \n\n   ratingUser  numberSubRatingsUser  subRatingMeanUser  subRatingStdevUser  \\\n0           5                     4           4.000000            0.000000   \n1           5                     0           0.000000            0.000000   \n2           4                     7           3.714286            0.755929   \n3           1                     4           1.000000            0.000000   \n4           3                     0           0.000000            0.000000   \n\n   ...  completeness_2  completeness_3  numberTermsEntry  \\\n0  ...               0               1               182   \n1  ...               0               0               158   \n2  ...               0               3                59   \n3  ...               0               0                95   \n4  ...               0               0                43   \n\n   percentageAlphaCharsEntry  fractionUpperCaseCharsEntry  \\\n0                   0.788474                     0.025703   \n1                   0.791888                     0.012594   \n2                   0.799639                     0.024831   \n3                   0.782212                     0.029155   \n4                   0.805128                     0.028662   \n\n   fractionYouVsIEntry  numberTermsSummaryQuote  \\\n0             0.500000                        6   \n1             0.500000                        1   \n2             0.333333                        4   \n3             0.500000                        2   \n4             0.000000                        1   \n\n   percentageAlphaCharsSummaryQuote  fractionUpperCaseCharsSummaryQuote  \\\n0                          0.815789                            0.096774   \n1                          1.000000                            0.083333   \n2                          0.828571                            0.034483   \n3                          0.800000                            0.062500   \n4                          1.000000                            0.142857   \n\n   reviewHelpfulness  \n0                  1  \n1                  1  \n2                  0  \n3                  0  \n4                  0  \n\n[5 rows x 25 columns]",
      "text/html": "<div>\n<style scoped>\n    .dataframe tbody tr th:only-of-type {\n        vertical-align: middle;\n    }\n\n    .dataframe tbody tr th {\n        vertical-align: top;\n    }\n\n    .dataframe thead th {\n        text-align: right;\n    }\n</style>\n<table border=\"1\" class=\"dataframe\">\n  <thead>\n    <tr style=\"text-align: right;\">\n      <th></th>\n      <th>hotelId</th>\n      <th>aveHelpfulnessRatioUser</th>\n      <th>stdevHelpfulnessRatioUser</th>\n      <th>pcReviewsExceedMinHelpfulnessSupport</th>\n      <th>numReviewsUser</th>\n      <th>numReviewsHotel</th>\n      <th>ratingUser</th>\n      <th>numberSubRatingsUser</th>\n      <th>subRatingMeanUser</th>\n      <th>subRatingStdevUser</th>\n      <th>...</th>\n      <th>completeness_2</th>\n      <th>completeness_3</th>\n      <th>numberTermsEntry</th>\n      <th>percentageAlphaCharsEntry</th>\n      <th>fractionUpperCaseCharsEntry</th>\n      <th>fractionYouVsIEntry</th>\n      <th>numberTermsSummaryQuote</th>\n      <th>percentageAlphaCharsSummaryQuote</th>\n      <th>fractionUpperCaseCharsSummaryQuote</th>\n      <th>reviewHelpfulness</th>\n    </tr>\n  </thead>\n  <tbody>\n    <tr>\n      <th>0</th>\n      <td>17420</td>\n      <td>1.000000</td>\n      <td>0.000000</td>\n      <td>0.666667</td>\n      <td>3</td>\n      <td>16</td>\n      <td>5</td>\n      <td>4</td>\n      <td>4.000000</td>\n      <td>0.000000</td>\n      <td>...</td>\n      <td>0</td>\n      <td>1</td>\n      <td>182</td>\n      <td>0.788474</td>\n      <td>0.025703</td>\n      <td>0.500000</td>\n      <td>6</td>\n      <td>0.815789</td>\n      <td>0.096774</td>\n      <td>1</td>\n    </tr>\n    <tr>\n      <th>1</th>\n      <td>1397</td>\n      <td>0.772487</td>\n      <td>0.377321</td>\n      <td>0.500000</td>\n      <td>12</td>\n      <td>233</td>\n      <td>5</td>\n      <td>0</td>\n      <td>0.000000</td>\n      <td>0.000000</td>\n      <td>...</td>\n      <td>0</td>\n      <td>0</td>\n      <td>158</td>\n      <td>0.791888</td>\n      <td>0.012594</td>\n      <td>0.500000</td>\n      <td>1</td>\n      <td>1.000000</td>\n      <td>0.083333</td>\n      <td>1</td>\n    </tr>\n    <tr>\n      <th>2</th>\n      <td>1348</td>\n      <td>0.715473</td>\n      <td>0.300437</td>\n      <td>0.833333</td>\n      <td>12</td>\n      <td>302</td>\n      <td>4</td>\n      <td>7</td>\n      <td>3.714286</td>\n      <td>0.755929</td>\n      <td>...</td>\n      <td>0</td>\n      <td>3</td>\n      <td>59</td>\n      <td>0.799639</td>\n      <td>0.024831</td>\n      <td>0.333333</td>\n      <td>4</td>\n      <td>0.828571</td>\n      <td>0.034483</td>\n      <td>0</td>\n    </tr>\n    <tr>\n      <th>3</th>\n      <td>5940</td>\n      <td>0.521250</td>\n      <td>0.481675</td>\n      <td>0.222222</td>\n      <td>36</td>\n      <td>6</td>\n      <td>1</td>\n      <td>4</td>\n      <td>1.000000</td>\n      <td>0.000000</td>\n      <td>...</td>\n      <td>0</td>\n      <td>0</td>\n      <td>95</td>\n      <td>0.782212</td>\n      <td>0.029155</td>\n      <td>0.500000</td>\n      <td>2</td>\n      <td>0.800000</td>\n      <td>0.062500</td>\n      <td>0</td>\n    </tr>\n    <tr>\n      <th>4</th>\n      <td>38</td>\n      <td>0.603175</td>\n      <td>0.246926</td>\n      <td>1.000000</td>\n      <td>2</td>\n      <td>271</td>\n      <td>3</td>\n      <td>0</td>\n      <td>0.000000</td>\n      <td>0.000000</td>\n      <td>...</td>\n      <td>0</td>\n      <td>0</td>\n      <td>43</td>\n      <td>0.805128</td>\n      <td>0.028662</td>\n      <td>0.000000</td>\n      <td>1</td>\n      <td>1.000000</td>\n      <td>0.142857</td>\n      <td>0</td>\n    </tr>\n  </tbody>\n</table>\n<p>5 rows × 25 columns</p>\n</div>"
     },
     "execution_count": 14,
     "metadata": {},
     "output_type": "execute_result"
    }
   ],
   "source": [
    "hotel_rev = pd.read_csv('HotelRevHelpfulness.csv')\n",
    "hotel_rev.head()"
   ]
  },
  {
   "cell_type": "code",
   "execution_count": 15,
   "metadata": {
    "pycharm": {
     "name": "#%%\n"
    }
   },
   "outputs": [],
   "source": [
    "y = hotel_rev.pop('reviewHelpfulness').values\n",
    "X = hotel_rev.values\n",
    "scaler = StandardScaler()\n",
    "Xs = scaler.fit_transform(X)\n",
    "X_train, X_test, y_train, y_test = train_test_split(Xs, y, random_state=0, test_size=1/3)"
   ]
  },
  {
   "cell_type": "code",
   "execution_count": 16,
   "metadata": {
    "pycharm": {
     "name": "#%%\n"
    }
   },
   "outputs": [],
   "source": [
    "gnb = GaussianNB()\n",
    "y_score = gnb.fit(X_train, y_train).predict_proba(X_test)\n",
    "fprG, tprG, t = roc_curve(y_test, y_score[:,1])\n",
    "roc_aucG = auc(fprG, tprG)"
   ]
  },
  {
   "cell_type": "code",
   "execution_count": 17,
   "metadata": {
    "pycharm": {
     "name": "#%%\n"
    }
   },
   "outputs": [],
   "source": [
    "svm = SVC(kernel = 'linear',C=1, probability=True)\n",
    "hotel_rev_SVM = svm.fit(X_train, y_train)"
   ]
  },
  {
   "cell_type": "code",
   "execution_count": 18,
   "metadata": {
    "pycharm": {
     "name": "#%%\n"
    }
   },
   "outputs": [],
   "source": [
    "y_score = hotel_rev_SVM.decision_function(X_test)\n",
    "fprS, tprS, t = roc_curve(y_test, y_score)\n",
    "roc_aucS = auc(fprS, tprS)"
   ]
  },
  {
   "cell_type": "markdown",
   "metadata": {
    "pycharm": {
     "name": "#%% md\n"
    }
   },
   "source": [
    "## The ROC Plot"
   ]
  },
  {
   "cell_type": "code",
   "execution_count": 19,
   "metadata": {
    "pycharm": {
     "name": "#%%\n"
    }
   },
   "outputs": [
    {
     "data": {
      "text/plain": "<Figure size 432x288 with 1 Axes>",
      "image/png": "[encoded data removed]"
     },
     "metadata": {
      "needs_background": "light"
     },
     "output_type": "display_data"
    }
   ],
   "source": [
    "import matplotlib.pyplot as plt\n",
    "%matplotlib inline\n",
    "plt.figure()\n",
    "lw = 2\n",
    "plt.plot(fprG, tprG, color='red',\n",
    "         lw=lw, label='ROC NB (area = %0.2f)' % roc_aucG)\n",
    "plt.plot(fprS, tprS, color='green',\n",
    "         lw=lw, label='ROC SVM (area = %0.2f)' % roc_aucS)\n",
    "\n",
    "plt.plot([0, 1], [0, 1], color='navy', lw=lw, linestyle='--')\n",
    "plt.xlim([0.0, 1.0])\n",
    "plt.ylim([0.0, 1.0])\n",
    "plt.xlabel('False Positive Rate')\n",
    "plt.ylabel('True Positive Rate')\n",
    "plt.title('ROC Analysis for Hotel Review data')\n",
    "plt.legend(loc=\"lower right\")\n",
    "plt.show()"
   ]
  },
  {
   "cell_type": "code",
   "execution_count": null,
   "metadata": {
    "pycharm": {
     "name": "#%%\n"
    }
   },
   "outputs": [],
   "source": []
  }
 ],
 "metadata": {
  "kernelspec": {
   "display_name": "Python 3",
   "language": "python",
   "name": "python3"
  },
  "language_info": {
   "codemirror_mode": {
    "name": "ipython",
    "version": 3
   },
   "file_extension": ".py",
   "mimetype": "text/x-python",
   "name": "python",
   "nbconvert_exporter": "python",
   "pygments_lexer": "ipython3",
   "version": "3.8.3"
  }
 },
 "nbformat": 4,
 "nbformat_minor": 2
}