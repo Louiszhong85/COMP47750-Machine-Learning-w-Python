{
 "cells": [
  {
   "cell_type": "markdown",
   "id": "1ec889e4",
   "metadata": {},
   "source": [
    "# Partial Derivatives\n",
    "This notebook is part of a collection of supplementary material designed to bring student up to speed on the mathematics required for COMP47750 Mathematics with Python.   \n",
    "This notebook covers partial differentiation.  \n",
    "This material is covered in the lecture **M2 Differentiation**. "
   ]
  },
  {
   "cell_type": "code",
   "execution_count": null,
   "id": "aef3bad6",
   "metadata": {},
   "outputs": [],
   "source": [
    "import pandas as pd\n",
    "import numpy as np\n",
    "import matplotlib.pyplot as plt\n",
    "from matplotlib import cm\n",
    "from mpl_toolkits.mplot3d import Axes3D, art3d\n",
    "from matplotlib.patches import Circle\n",
    "%matplotlib inline"
   ]
  },
  {
   "cell_type": "markdown",
   "id": "88ed9533",
   "metadata": {},
   "source": [
    "The function:  \n",
    "$z = x^3-3y^2$"
   ]
  },
  {
   "cell_type": "code",
   "execution_count": null,
   "id": "60d1ecfc",
   "metadata": {},
   "outputs": [],
   "source": [
    "def f(x, y):\n",
    "    return x**3-3*x*y**2"
   ]
  },
  {
   "cell_type": "code",
   "execution_count": null,
   "id": "cd0d424f",
   "metadata": {},
   "outputs": [],
   "source": [
    "fig = plt.figure(figsize=(8,6))\n",
    "ax3d = plt.axes(projection=\"3d\")\n",
    "\n",
    "xdata = np.linspace(-3,3,100)\n",
    "ydata = np.linspace(-3,3,100)\n",
    "X,Y = np.meshgrid(xdata,ydata)\n",
    "Z = f(X,Y)\n",
    "\n",
    "ax3d = plt.axes(projection='3d')\n",
    "\n",
    "ax3d.plot_surface(X, Y, Z, cmap=cm.coolwarm,\n",
    "                       linewidth=0, antialiased=False)\n",
    "\n",
    "# The two data points\n",
    "x1,y1 = 0.5, -2\n",
    "x2,y2 = -1, 2\n",
    "\n",
    "p1 = Circle((x1, y1), 0.05, ec='r', fc=\"none\")\n",
    "ax3d.add_patch(p1)\n",
    "art3d.pathpatch_2d_to_3d(p1, z=f(x1,y1), zdir=\"z\")\n",
    "\n",
    "p2 = Circle((x2, y2), 0.05, ec='k', fc=\"none\")\n",
    "ax3d.add_patch(p2)\n",
    "art3d.pathpatch_2d_to_3d(p2, z=f(x2,y2), zdir=\"z\")\n",
    "\n",
    "ax3d.set_xlabel('X')\n",
    "ax3d.set_ylabel('Y')\n",
    "ax3d.set_zlabel('Z')\n",
    "\n",
    "plt.show()"
   ]
  },
  {
   "cell_type": "markdown",
   "id": "540b01a0",
   "metadata": {},
   "source": [
    "### Partial Derivatives  \n",
    "$\\frac{\\partial z}{\\partial x}=3x^2 - 3y^2$  \n",
    "$\\frac{\\partial z}{\\partial y}=- 6xy$"
   ]
  },
  {
   "cell_type": "code",
   "execution_count": null,
   "id": "982dd8f5",
   "metadata": {},
   "outputs": [],
   "source": [
    "def delzdelx(x,y):\n",
    "    return 3*x**3 - 3*y**2\n",
    "\n",
    "def delzdely(x,y):\n",
    "    return - 6*x*y"
   ]
  },
  {
   "cell_type": "code",
   "execution_count": null,
   "id": "bb22ac1e",
   "metadata": {},
   "outputs": [],
   "source": [
    "x1, y1, f(x1,y1), delzdelx(x1,y1), delzdely(x1,y1)"
   ]
  },
  {
   "cell_type": "code",
   "execution_count": null,
   "id": "a77aa543",
   "metadata": {},
   "outputs": [],
   "source": [
    "x2, y2, f(x2,y2), delzdelx(x2,y2), delzdely(x2,y2)"
   ]
  }
 ],
 "metadata": {
  "kernelspec": {
   "display_name": "Python 3",
   "language": "python",
   "name": "python3"
  },
  "language_info": {
   "codemirror_mode": {
    "name": "ipython",
    "version": 3
   },
   "file_extension": ".py",
   "mimetype": "text/x-python",
   "name": "python",
   "nbconvert_exporter": "python",
   "pygments_lexer": "ipython3",
   "version": "3.8.8"
  }
 },
 "nbformat": 4,
 "nbformat_minor": 5
}
