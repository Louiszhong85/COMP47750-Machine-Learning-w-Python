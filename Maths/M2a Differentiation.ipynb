{
 "cells": [
  {
   "cell_type": "markdown",
   "id": "3fefaa8c",
   "metadata": {},
   "source": [
    "# Differentiation\n",
    "This notebook is part of a collection of supplementary material designed to bring student up to speed on the mathematics required for COMP47750 Mathematics with Python.   \n",
    "This notebook introduces differentiation on tabular data.  \n",
    "This material is covered in the lecture **M2 Differentiation**. "
   ]
  },
  {
   "cell_type": "code",
   "execution_count": null,
   "id": "e362f56d",
   "metadata": {},
   "outputs": [],
   "source": [
    "import pandas as pd\n",
    "import matplotlib.pyplot as plt"
   ]
  },
  {
   "cell_type": "markdown",
   "id": "f23b4eea",
   "metadata": {},
   "source": [
    "A small dataset derived from GPS data."
   ]
  },
  {
   "cell_type": "code",
   "execution_count": null,
   "id": "5b23a882",
   "metadata": {},
   "outputs": [],
   "source": [
    "route = pd.read_csv('route.csv', index_col = 'Time',\n",
    "                   parse_dates=['Time'], infer_datetime_format=True)"
   ]
  },
  {
   "cell_type": "code",
   "execution_count": null,
   "id": "7f0e9267",
   "metadata": {},
   "outputs": [],
   "source": [
    "route.head().round(2)"
   ]
  },
  {
   "cell_type": "code",
   "execution_count": null,
   "id": "9ddc95e8",
   "metadata": {},
   "outputs": [],
   "source": [
    "# Calculate the change in elevation\n",
    "route['dEl'] = route['Elevation'] - route['Elevation'].shift(1)\n",
    "\n",
    "# Calculate the time delta in seconds, calculate the velocity.\n",
    "route['TDelta'] = route.index.to_series().diff().astype('timedelta64[s]')\n",
    "route['V']= route['S'].diff()/route['TDelta']\n",
    "\n",
    "# Get the cumulated elapsed time in seconds\n",
    "route['TimeSec'] = route['TDelta'].cumsum()\n",
    "route.dropna(inplace = True) # Remove the row with the NaN\n",
    "\n",
    "# Smooth out the noise\n",
    "route['dElSmooth'] = route['dEl'].rolling(15, center = True).mean()\n",
    "route['VSmooth'] = route['V'].rolling(15, center = True).mean() \n",
    "\n",
    "route.dropna(inplace = True) # Remove the rows with  NaNs"
   ]
  },
  {
   "cell_type": "code",
   "execution_count": null,
   "id": "6d8e5a13",
   "metadata": {
    "scrolled": true
   },
   "outputs": [],
   "source": [
    "route.head(10)"
   ]
  },
  {
   "cell_type": "markdown",
   "id": "0280656e",
   "metadata": {},
   "source": [
    "Plot S (distance travelled) against elapsed time."
   ]
  },
  {
   "cell_type": "code",
   "execution_count": null,
   "id": "71135867",
   "metadata": {},
   "outputs": [],
   "source": [
    "plt.scatter(route['TimeSec'],route['S'], s = 3)\n",
    "plt.xlabel(\"t\")\n",
    "plt.ylabel(\"S\")"
   ]
  },
  {
   "cell_type": "markdown",
   "id": "a6330ee6",
   "metadata": {},
   "source": [
    "Plot the smoothed velocity (first derivative of distance) against time. "
   ]
  },
  {
   "cell_type": "code",
   "execution_count": null,
   "id": "76ea2db8",
   "metadata": {},
   "outputs": [],
   "source": [
    "plt.scatter(route['TimeSec'],route['VSmooth'], s = 3)\n",
    "plt.ylim(0, 10)\n",
    "plt.xlabel(\"t\")\n",
    "plt.ylabel(\"V\")"
   ]
  },
  {
   "cell_type": "markdown",
   "id": "8d6c9a4e",
   "metadata": {},
   "source": [
    "### Elevation\n",
    "Plots of elevation and changes in elevation against time and distance travelled.  \n",
    "See lecture slides to see what these mean in terms of derivatives. "
   ]
  },
  {
   "cell_type": "code",
   "execution_count": null,
   "id": "7e470004",
   "metadata": {},
   "outputs": [],
   "source": [
    "plt.scatter(route['TimeSec'],route['Elevation'], s = 3)\n",
    "plt.xlabel(\"t\")\n",
    "plt.ylabel(\"Elevation\")"
   ]
  },
  {
   "cell_type": "code",
   "execution_count": null,
   "id": "61a1dd6c",
   "metadata": {},
   "outputs": [],
   "source": [
    "plt.scatter(route['TimeSec'],route['dElSmooth'], s = 3)\n",
    "plt.xlabel(\"t\")\n",
    "plt.ylabel(\"Elevation Change\")"
   ]
  },
  {
   "cell_type": "code",
   "execution_count": null,
   "id": "ab6fece2",
   "metadata": {},
   "outputs": [],
   "source": [
    "plt.scatter(route['S'],route['dElSmooth'], s = 3)\n",
    "plt.xlabel(\"S\")\n",
    "plt.ylabel(\"Elevation Change\")"
   ]
  }
 ],
 "metadata": {
  "kernelspec": {
   "display_name": "Python 3",
   "language": "python",
   "name": "python3"
  },
  "language_info": {
   "codemirror_mode": {
    "name": "ipython",
    "version": 3
   },
   "file_extension": ".py",
   "mimetype": "text/x-python",
   "name": "python",
   "nbconvert_exporter": "python",
   "pygments_lexer": "ipython3",
   "version": "3.8.8"
  }
 },
 "nbformat": 4,
 "nbformat_minor": 5
}
