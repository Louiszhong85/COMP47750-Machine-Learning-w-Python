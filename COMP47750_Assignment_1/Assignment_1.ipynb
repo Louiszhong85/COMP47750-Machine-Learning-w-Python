{
 "cells": [
  {
   "cell_type": "markdown",
   "id": "96c58e75",
   "metadata": {
    "pycharm": {
     "name": "#%% md\n"
    }
   },
   "source": [
    "\n",
    "The objective of this assignment is to implement and test a k-Nearest Neighbour (k-NN) classifier for time-series data. One of the big benefits of k-NN is that it can be used with data that is not in the normal feature vector format if a distance measure for that data can be found. Dynamic time warping (DTW) is such a measure for time series (DTW Wikipedia page).\n",
    "Requirements\n",
    "The notebook Basic_DTW contains some basic code to help you get started."
   ]
  },
  {
   "cell_type": "markdown",
   "id": "ec8e13b5",
   "metadata": {
    "pycharm": {
     "name": "#%% md\n"
    }
   },
   "source": [
    "# Task 1: 1-NN DTW\n"
   ]
  },
  {
   "cell_type": "markdown",
   "id": "511d97f5",
   "metadata": {
    "pycharm": {
     "name": "#%% md\n"
    }
   },
   "source": [
    "# dtw Algorithm"
   ]
  },
  {
   "cell_type": "code",
   "execution_count": 8,
   "id": "b2b349e1",
   "metadata": {
    "pycharm": {
     "name": "#%%\n"
    }
   },
   "outputs": [],
   "source": [
    "import pandas as pd\n",
    "import numpy as np"
   ]
  },
  {
   "cell_type": "code",
   "execution_count": 9,
   "id": "6d9a16f2",
   "metadata": {
    "pycharm": {
     "name": "#%%\n"
    }
   },
   "outputs": [],
   "source": [
    "def dtw(s, t, window):\n",
    "    n, m = len(s), len(t)\n",
    "    w = np.max([window, abs(n-m)]) # warping cannot be less than the difference in lengths. \n",
    "    dtw_matrix = np.zeros((n+1, m+1))\n",
    "    \n",
    "    for i in range(n+1):\n",
    "        for j in range(m+1):\n",
    "            dtw_matrix[i, j] = np.inf\n",
    "    dtw_matrix[0, 0] = 0\n",
    "    \n",
    "    for i in range(1, n+1):\n",
    "        for j in range(np.max([1, i-w]), np.min([m, i+w])+1):\n",
    "            dtw_matrix[i, j] = 0\n",
    "    \n",
    "    for i in range(1, n+1):\n",
    "        for j in range(np.max([1, i-w]), np.min([m, i+w])+1):\n",
    "            cost = abs(s[i-1] - t[j-1])\n",
    "            # take last min from a square box\n",
    "            last_min = np.min([dtw_matrix[i-1, j], dtw_matrix[i, j-1], dtw_matrix[i-1, j-1]])\n",
    "            dtw_matrix[i, j] = cost + last_min\n",
    "    return dtw_matrix[-1,-1]"
   ]
  },
  {
   "cell_type": "markdown",
   "id": "34a9a3c3",
   "metadata": {
    "pycharm": {
     "name": "#%% md\n"
    }
   },
   "source": [
    "## 1. Use the DTW function in the notebook to implement a simple 1-NN classifier for time-series data. "
   ]
  },
  {
   "cell_type": "code",
   "execution_count": 10,
   "id": "89e4d070",
   "metadata": {
    "pycharm": {
     "name": "#%%\n"
    }
   },
   "outputs": [],
   "source": [
    "def dtw_1nn(x_train,y_train,x_test, window):\n",
    "    # calc all date DTW dist\n",
    "    dtw_distance = []                          # collect DTW distance\n",
    "    y_test = []                                # collect test lable\n",
    "    for j in range(len(x_test)):               # loop in X_test\n",
    "        for i in range(len(x_train)):          # loop in Y_train\n",
    "            dtw_distance.append(dtw(x_test[j],x_train[i],window))  # put all DTW distance to dtw_distance array\n",
    "        dtw_distance_index = np.argsort(dtw_distance)  # sort and collect distance index \n",
    "        y_test.append(y_train[dtw_distance_index[0]])  # used index[0] to collect Y_traine in min distance \n",
    "        dtw_distance.clear()                   # clear dtw_distance data\n",
    "          \n",
    "    return y_test\n"
   ]
  },
  {
   "cell_type": "markdown",
   "id": "fc32adb2",
   "metadata": {
    "pycharm": {
     "name": "#%% md\n"
    }
   },
   "source": [
    "## 2. Test the performance of this classifier on the dataset provided in the file UMD_TEST.txt. This is a three-class synthetic time-series dataset - see details <here>."
   ]
  },
  {
   "cell_type": "code",
   "execution_count": 11,
   "id": "a357ac67",
   "metadata": {
    "pycharm": {
     "name": "#%%\n"
    }
   },
   "outputs": [
    {
     "data": {
      "text/html": [
       "<div>\n",
       "<style scoped>\n",
       "    .dataframe tbody tr th:only-of-type {\n",
       "        vertical-align: middle;\n",
       "    }\n",
       "\n",
       "    .dataframe tbody tr th {\n",
       "        vertical-align: top;\n",
       "    }\n",
       "\n",
       "    .dataframe thead th {\n",
       "        text-align: right;\n",
       "    }\n",
       "</style>\n",
       "<table border=\"1\" class=\"dataframe\">\n",
       "  <thead>\n",
       "    <tr style=\"text-align: right;\">\n",
       "      <th></th>\n",
       "      <th>0</th>\n",
       "      <th>1</th>\n",
       "      <th>2</th>\n",
       "      <th>3</th>\n",
       "      <th>4</th>\n",
       "      <th>5</th>\n",
       "      <th>6</th>\n",
       "      <th>7</th>\n",
       "      <th>8</th>\n",
       "      <th>9</th>\n",
       "      <th>...</th>\n",
       "      <th>141</th>\n",
       "      <th>142</th>\n",
       "      <th>143</th>\n",
       "      <th>144</th>\n",
       "      <th>145</th>\n",
       "      <th>146</th>\n",
       "      <th>147</th>\n",
       "      <th>148</th>\n",
       "      <th>149</th>\n",
       "      <th>150</th>\n",
       "    </tr>\n",
       "  </thead>\n",
       "  <tbody>\n",
       "    <tr>\n",
       "      <th>0</th>\n",
       "      <td>1.0</td>\n",
       "      <td>0.017644</td>\n",
       "      <td>0.030949</td>\n",
       "      <td>0.050555</td>\n",
       "      <td>0.044484</td>\n",
       "      <td>0.053277</td>\n",
       "      <td>0.041576</td>\n",
       "      <td>0.030947</td>\n",
       "      <td>0.027086</td>\n",
       "      <td>0.013764</td>\n",
       "      <td>...</td>\n",
       "      <td>0.024575</td>\n",
       "      <td>0.033780</td>\n",
       "      <td>0.026589</td>\n",
       "      <td>0.013932</td>\n",
       "      <td>0.024928</td>\n",
       "      <td>0.022589</td>\n",
       "      <td>0.038248</td>\n",
       "      <td>0.049838</td>\n",
       "      <td>0.053419</td>\n",
       "      <td>0.040420</td>\n",
       "    </tr>\n",
       "    <tr>\n",
       "      <th>1</th>\n",
       "      <td>1.0</td>\n",
       "      <td>0.041296</td>\n",
       "      <td>0.003551</td>\n",
       "      <td>0.027470</td>\n",
       "      <td>0.013158</td>\n",
       "      <td>0.009571</td>\n",
       "      <td>0.008074</td>\n",
       "      <td>0.043743</td>\n",
       "      <td>0.040592</td>\n",
       "      <td>0.012190</td>\n",
       "      <td>...</td>\n",
       "      <td>0.060539</td>\n",
       "      <td>0.046991</td>\n",
       "      <td>0.023586</td>\n",
       "      <td>0.001562</td>\n",
       "      <td>-0.002196</td>\n",
       "      <td>0.036730</td>\n",
       "      <td>0.039027</td>\n",
       "      <td>0.007754</td>\n",
       "      <td>0.004697</td>\n",
       "      <td>0.031440</td>\n",
       "    </tr>\n",
       "    <tr>\n",
       "      <th>2</th>\n",
       "      <td>1.0</td>\n",
       "      <td>-0.000720</td>\n",
       "      <td>0.013283</td>\n",
       "      <td>0.029450</td>\n",
       "      <td>0.045201</td>\n",
       "      <td>0.006317</td>\n",
       "      <td>0.018805</td>\n",
       "      <td>0.028901</td>\n",
       "      <td>0.013832</td>\n",
       "      <td>0.015240</td>\n",
       "      <td>...</td>\n",
       "      <td>0.016442</td>\n",
       "      <td>0.039508</td>\n",
       "      <td>0.015171</td>\n",
       "      <td>0.034708</td>\n",
       "      <td>0.010835</td>\n",
       "      <td>0.002942</td>\n",
       "      <td>0.006924</td>\n",
       "      <td>0.029502</td>\n",
       "      <td>0.040786</td>\n",
       "      <td>0.023144</td>\n",
       "    </tr>\n",
       "    <tr>\n",
       "      <th>3</th>\n",
       "      <td>1.0</td>\n",
       "      <td>0.005201</td>\n",
       "      <td>0.013363</td>\n",
       "      <td>0.025733</td>\n",
       "      <td>0.026653</td>\n",
       "      <td>0.038946</td>\n",
       "      <td>0.012494</td>\n",
       "      <td>0.028303</td>\n",
       "      <td>0.032011</td>\n",
       "      <td>0.009467</td>\n",
       "      <td>...</td>\n",
       "      <td>0.006383</td>\n",
       "      <td>0.037448</td>\n",
       "      <td>0.044335</td>\n",
       "      <td>0.011143</td>\n",
       "      <td>-0.003624</td>\n",
       "      <td>0.001467</td>\n",
       "      <td>0.020991</td>\n",
       "      <td>0.027675</td>\n",
       "      <td>0.001621</td>\n",
       "      <td>0.015858</td>\n",
       "    </tr>\n",
       "    <tr>\n",
       "      <th>4</th>\n",
       "      <td>1.0</td>\n",
       "      <td>0.022926</td>\n",
       "      <td>0.027036</td>\n",
       "      <td>0.011668</td>\n",
       "      <td>0.019500</td>\n",
       "      <td>0.036049</td>\n",
       "      <td>-0.001297</td>\n",
       "      <td>0.019717</td>\n",
       "      <td>0.039583</td>\n",
       "      <td>0.020628</td>\n",
       "      <td>...</td>\n",
       "      <td>0.026997</td>\n",
       "      <td>0.036653</td>\n",
       "      <td>0.018117</td>\n",
       "      <td>0.018314</td>\n",
       "      <td>0.012536</td>\n",
       "      <td>0.040599</td>\n",
       "      <td>0.016590</td>\n",
       "      <td>0.032730</td>\n",
       "      <td>0.002498</td>\n",
       "      <td>0.011260</td>\n",
       "    </tr>\n",
       "  </tbody>\n",
       "</table>\n",
       "<p>5 rows × 151 columns</p>\n",
       "</div>"
      ],
      "text/plain": [
       "     0         1         2         3         4         5         6         7  \\\n",
       "0  1.0  0.017644  0.030949  0.050555  0.044484  0.053277  0.041576  0.030947   \n",
       "1  1.0  0.041296  0.003551  0.027470  0.013158  0.009571  0.008074  0.043743   \n",
       "2  1.0 -0.000720  0.013283  0.029450  0.045201  0.006317  0.018805  0.028901   \n",
       "3  1.0  0.005201  0.013363  0.025733  0.026653  0.038946  0.012494  0.028303   \n",
       "4  1.0  0.022926  0.027036  0.011668  0.019500  0.036049 -0.001297  0.019717   \n",
       "\n",
       "          8         9  ...       141       142       143       144       145  \\\n",
       "0  0.027086  0.013764  ...  0.024575  0.033780  0.026589  0.013932  0.024928   \n",
       "1  0.040592  0.012190  ...  0.060539  0.046991  0.023586  0.001562 -0.002196   \n",
       "2  0.013832  0.015240  ...  0.016442  0.039508  0.015171  0.034708  0.010835   \n",
       "3  0.032011  0.009467  ...  0.006383  0.037448  0.044335  0.011143 -0.003624   \n",
       "4  0.039583  0.020628  ...  0.026997  0.036653  0.018117  0.018314  0.012536   \n",
       "\n",
       "        146       147       148       149       150  \n",
       "0  0.022589  0.038248  0.049838  0.053419  0.040420  \n",
       "1  0.036730  0.039027  0.007754  0.004697  0.031440  \n",
       "2  0.002942  0.006924  0.029502  0.040786  0.023144  \n",
       "3  0.001467  0.020991  0.027675  0.001621  0.015858  \n",
       "4  0.040599  0.016590  0.032730  0.002498  0.011260  \n",
       "\n",
       "[5 rows x 151 columns]"
      ]
     },
     "execution_count": 11,
     "metadata": {},
     "output_type": "execute_result"
    }
   ],
   "source": [
    "# Data Collect \n",
    "data = pd.read_csv(\"./UMD_TEST.txt\", sep=r\"\\s+\", header = None)\n",
    "data.columns = data.columns.astype(str)\n",
    "data.head()"
   ]
  },
  {
   "cell_type": "code",
   "execution_count": 12,
   "id": "f7266fa9",
   "metadata": {
    "pycharm": {
     "name": "#%%\n"
    }
   },
   "outputs": [],
   "source": [
    "from sklearn.model_selection import train_test_split\n",
    "\n",
    "# Data Split  test_size =0.33. and random_state = 42\n",
    "\n",
    "train_data,test_data = train_test_split(data,test_size=0.33, random_state=42)\n",
    "y_train=train_data.pop('0').values\n",
    "x_train=train_data.values\n",
    "y_test =test_data.pop('0').values\n",
    "x_test =test_data.values"
   ]
  },
  {
   "cell_type": "code",
   "execution_count": 13,
   "id": "45f2b235",
   "metadata": {
    "pycharm": {
     "name": "#%%\n"
    }
   },
   "outputs": [
    {
     "name": "stdout",
     "output_type": "stream",
     "text": [
      "when test_size =0.33. and random_state = 42 , the performance is\n",
      "Run Time: 65.36 Sec Accuracy:  0.98\n"
     ]
    }
   ],
   "source": [
    "from sklearn.metrics import accuracy_score\n",
    "import time\n",
    "\n",
    "#Predict DTW\n",
    "\n",
    "dtw_time_start = time.time()        # collect start time to prepare calc capacity\n",
    "dtw_predict = dtw_1nn(x_train,y_train,x_test,5)\n",
    "dtw_time_1nn = time.time()-dtw_time_start      # calc run time for the performance\n",
    "\n",
    "# calc accuracy score of dtw_1nn\n",
    "\n",
    "dtw_accuracy_score = accuracy_score(y_test, dtw_predict)\n",
    "print(\"when test_size =0.33. and random_state = 42 , the performance is\")\n",
    "print('Run Time: %5.2f Sec Accuracy: %5.2f' % (dtw_time_1nn, dtw_accuracy_score))"
   ]
  },
  {
   "cell_type": "markdown",
   "id": "98b6f438",
   "metadata": {
    "pycharm": {
     "name": "#%% md\n"
    }
   },
   "source": [
    "## 3.Given that the time-series are all the same length (150 ticks) Euclidean distance can also be used as distance metric. Compare the 1-NN DTW performance with 1-NN Euclidean. Use the scikit-learn implementation for the Euclidean model. "
   ]
  },
  {
   "cell_type": "code",
   "execution_count": 14,
   "id": "0399ef55",
   "metadata": {
    "pycharm": {
     "name": "#%%\n"
    }
   },
   "outputs": [
    {
     "name": "stdout",
     "output_type": "stream",
     "text": [
      "The Result base on test_size =0.33. and random_state = 42\n"
     ]
    },
    {
     "data": {
      "text/html": [
       "<div>\n",
       "<style scoped>\n",
       "    .dataframe tbody tr th:only-of-type {\n",
       "        vertical-align: middle;\n",
       "    }\n",
       "\n",
       "    .dataframe tbody tr th {\n",
       "        vertical-align: top;\n",
       "    }\n",
       "\n",
       "    .dataframe thead th {\n",
       "        text-align: right;\n",
       "    }\n",
       "</style>\n",
       "<table border=\"1\" class=\"dataframe\">\n",
       "  <thead>\n",
       "    <tr style=\"text-align: right;\">\n",
       "      <th></th>\n",
       "      <th>Run Time</th>\n",
       "      <th>Accuracy</th>\n",
       "    </tr>\n",
       "  </thead>\n",
       "  <tbody>\n",
       "    <tr>\n",
       "      <th>Euclidean</th>\n",
       "      <td>0.297893</td>\n",
       "      <td>0.854167</td>\n",
       "    </tr>\n",
       "    <tr>\n",
       "      <th>DTW</th>\n",
       "      <td>65.364594</td>\n",
       "      <td>0.979167</td>\n",
       "    </tr>\n",
       "  </tbody>\n",
       "</table>\n",
       "</div>"
      ],
      "text/plain": [
       "            Run Time  Accuracy\n",
       "Euclidean   0.297893  0.854167\n",
       "DTW        65.364594  0.979167"
      ]
     },
     "execution_count": 14,
     "metadata": {},
     "output_type": "execute_result"
    }
   ],
   "source": [
    "from sklearn.metrics.pairwise import euclidean_distances\n",
    "\n",
    "def euclidean_1nn(x_train,y_train,x_test):\n",
    "    # calc all date euclidean dist\n",
    "\n",
    "    euc_distance = []                          # collect ecu distance\n",
    "    y_test = []                                # collect test lable\n",
    "    for j in range(len(x_test)):               # loop in X_test\n",
    "        for i in range(len(x_train)):          # loop in Y_train\n",
    "                # euclidean_distances refers to the true distance between two points in an m-dimensional space, or the natural length of a vector.\n",
    "                # we need extended dimension x_test and x_train, also for the distance need covert to float\n",
    "            euc_distance.append(float(euclidean_distances(np.expand_dims(x_test[j],0),np.expand_dims(x_train[i],0)))) # put all euc distance to dtw_distance array\n",
    "        euc_distance_index = np.argsort(euc_distance)  # sort and collect distance index\n",
    "        y_test.append(y_train[euc_distance_index[0]])  # used index[0] to collect Y_traine in min distance\n",
    "        euc_distance.clear()                   # clear euc_distance data\n",
    "\n",
    "    return y_test\n",
    "\n",
    "euc_start = time.time()        # collect start time to prepare calc capacity\n",
    "euc_predict = euclidean_1nn(x_train,y_train,x_test)\n",
    "euc_time = time.time()-euc_start\n",
    "euc_accuracy_score = accuracy_score(y_test, euc_predict)\n",
    "\n",
    "#### prepare reuslt\n",
    "result_data = {'Run Time':[euc_time,dtw_time_1nn],'Accuracy':[euc_accuracy_score,dtw_accuracy_score]}\n",
    "result = pd.DataFrame(result_data, index = ['Euclidean','DTW'])\n",
    "print(\"The Result base on test_size =0.33. and random_state = 42\")\n",
    "result\n"
   ]
  },
  {
   "cell_type": "markdown",
   "id": "d8c792c9",
   "metadata": {
    "pycharm": {
     "name": "#%% md\n"
    }
   },
   "source": [
    "From the results, it can be concluded that Euclidean outperforms DTW in time for the same test_scale, while DTW outperforms Euclidean in accuracy for the best window. The main reason for this is that when Euclidean distance compares two time series, a one-to-one correspondence is established between each point of the series and the sequence, in turn, based on the point-to-point correspondence. The relationship calculates its Euclidean distance as a measure of the distance between the two time series (similarity.) DTW will automatically warp and distort the time series (i.e., locally scale them on the time axis) so that the shapes of the two series are as consistent as possible and the maximum similarity is obtained. Therefore, DTW takes longer time while obtaining higher accuracy."
   ]
  },
  {
   "cell_type": "markdown",
   "id": "779faa82",
   "metadata": {
    "pycharm": {
     "name": "#%% md\n"
    }
   },
   "source": [
    "## 4. Find the best value for the window parameter for this dataset."
   ]
  },
  {
   "cell_type": "code",
   "execution_count": 15,
   "id": "465d1832",
   "metadata": {
    "pycharm": {
     "name": "#%%\n"
    }
   },
   "outputs": [
    {
     "name": "stdout",
     "output_type": "stream",
     "text": [
      "The min window of this dataset: 0\n"
     ]
    }
   ],
   "source": [
    "# warping cannot be less than the difference in lengths.hence we need find out min Window\n",
    "# find min_window in dataset\n",
    "min_window = []\n",
    "for j in range(len(x_test)):               # loop in X_test\n",
    "    for i in range(len(x_train)):\n",
    "       min_window.append(abs(len(x_train[i])-len(x_test[j])))\n",
    "min_window = max(min_window)\n",
    "print(\"The min window of this dataset:\" , min_window )"
   ]
  },
  {
   "cell_type": "code",
   "execution_count": 17,
   "id": "c0bb5b29",
   "metadata": {
    "pycharm": {
     "name": "#%%\n"
    }
   },
   "outputs": [],
   "source": [
    "# find best window for this dataset \n",
    "dtw_accuracy = []\n",
    "dtw_time = []\n",
    "for i in range(min_window,15):\n",
    "    start = time.time()\n",
    "    dtw_predict = dtw_1nn(x_train,y_train,x_test,i)\n",
    "    dtw_time.append(time.time()-start)\n",
    "    dtw_accuracy.append(accuracy_score(y_test, dtw_predict))"
   ]
  },
  {
   "cell_type": "code",
   "execution_count": 19,
   "id": "20f33d50",
   "metadata": {
    "pycharm": {
     "name": "#%%\n"
    }
   },
   "outputs": [
    {
     "data": {
      "text/html": [
       "<div>\n",
       "<style scoped>\n",
       "    .dataframe tbody tr th:only-of-type {\n",
       "        vertical-align: middle;\n",
       "    }\n",
       "\n",
       "    .dataframe tbody tr th {\n",
       "        vertical-align: top;\n",
       "    }\n",
       "\n",
       "    .dataframe thead th {\n",
       "        text-align: right;\n",
       "    }\n",
       "</style>\n",
       "<table border=\"1\" class=\"dataframe\">\n",
       "  <thead>\n",
       "    <tr style=\"text-align: right;\">\n",
       "      <th></th>\n",
       "      <th>Run Time</th>\n",
       "      <th>Accuracy</th>\n",
       "    </tr>\n",
       "  </thead>\n",
       "  <tbody>\n",
       "    <tr>\n",
       "      <th>0</th>\n",
       "      <td>29.362961</td>\n",
       "      <td>0.854167</td>\n",
       "    </tr>\n",
       "    <tr>\n",
       "      <th>1</th>\n",
       "      <td>36.782117</td>\n",
       "      <td>0.854167</td>\n",
       "    </tr>\n",
       "    <tr>\n",
       "      <th>2</th>\n",
       "      <td>44.008791</td>\n",
       "      <td>0.875000</td>\n",
       "    </tr>\n",
       "    <tr>\n",
       "      <th>3</th>\n",
       "      <td>51.180337</td>\n",
       "      <td>0.916667</td>\n",
       "    </tr>\n",
       "    <tr>\n",
       "      <th>4</th>\n",
       "      <td>58.243405</td>\n",
       "      <td>0.958333</td>\n",
       "    </tr>\n",
       "    <tr>\n",
       "      <th>5</th>\n",
       "      <td>65.497603</td>\n",
       "      <td>0.979167</td>\n",
       "    </tr>\n",
       "    <tr>\n",
       "      <th>6</th>\n",
       "      <td>72.090600</td>\n",
       "      <td>0.979167</td>\n",
       "    </tr>\n",
       "    <tr>\n",
       "      <th>7</th>\n",
       "      <td>79.144239</td>\n",
       "      <td>0.979167</td>\n",
       "    </tr>\n",
       "    <tr>\n",
       "      <th>8</th>\n",
       "      <td>86.157161</td>\n",
       "      <td>0.979167</td>\n",
       "    </tr>\n",
       "    <tr>\n",
       "      <th>9</th>\n",
       "      <td>92.738410</td>\n",
       "      <td>0.979167</td>\n",
       "    </tr>\n",
       "    <tr>\n",
       "      <th>10</th>\n",
       "      <td>99.521334</td>\n",
       "      <td>0.979167</td>\n",
       "    </tr>\n",
       "    <tr>\n",
       "      <th>11</th>\n",
       "      <td>106.410031</td>\n",
       "      <td>0.979167</td>\n",
       "    </tr>\n",
       "    <tr>\n",
       "      <th>12</th>\n",
       "      <td>112.854466</td>\n",
       "      <td>0.979167</td>\n",
       "    </tr>\n",
       "    <tr>\n",
       "      <th>13</th>\n",
       "      <td>119.553958</td>\n",
       "      <td>0.979167</td>\n",
       "    </tr>\n",
       "    <tr>\n",
       "      <th>14</th>\n",
       "      <td>126.027531</td>\n",
       "      <td>0.979167</td>\n",
       "    </tr>\n",
       "  </tbody>\n",
       "</table>\n",
       "</div>"
      ],
      "text/plain": [
       "      Run Time  Accuracy\n",
       "0    29.362961  0.854167\n",
       "1    36.782117  0.854167\n",
       "2    44.008791  0.875000\n",
       "3    51.180337  0.916667\n",
       "4    58.243405  0.958333\n",
       "5    65.497603  0.979167\n",
       "6    72.090600  0.979167\n",
       "7    79.144239  0.979167\n",
       "8    86.157161  0.979167\n",
       "9    92.738410  0.979167\n",
       "10   99.521334  0.979167\n",
       "11  106.410031  0.979167\n",
       "12  112.854466  0.979167\n",
       "13  119.553958  0.979167\n",
       "14  126.027531  0.979167"
      ]
     },
     "execution_count": 19,
     "metadata": {},
     "output_type": "execute_result"
    }
   ],
   "source": [
    "best_window_data = {'Run Time':dtw_time,'Accuracy':dtw_accuracy}\n",
    "best_window_data = pd.DataFrame(best_window_data)\n",
    "best_window_data"
   ]
  },
  {
   "cell_type": "markdown",
   "id": "3a231fe4",
   "metadata": {
    "pycharm": {
     "name": "#%% md\n"
    }
   },
   "source": [
    "After we got  that the minimum Window is equal to 0. I used the traditional method to calculate best window.  From  the minimum Window to maximum Window using a For loop. The results are consistent after Windwo = 5 base on dataset test_size = 0.33. and random_state = 42, . So the results can be obtained as follows.\n",
    "\n",
    "### The Best Window is 5"
   ]
  },
  {
   "cell_type": "markdown",
   "id": "d9f6cb2e",
   "metadata": {
    "pycharm": {
     "name": "#%% md\n"
    }
   },
   "source": [
    "# Task 2: k-NN DTW"
   ]
  },
  {
   "cell_type": "markdown",
   "id": "4ca784ef",
   "metadata": {
    "pycharm": {
     "name": "#%% md\n"
    }
   },
   "source": [
    "## 1. The k-NN classifier in scikit-learn has a metric parameter that allows for user-defined distance metrics. Adapt the DTW code provided so that it can be incorporated  in a scikit-learn k-NN  classifier. "
   ]
  },
  {
   "cell_type": "code",
   "execution_count": 20,
   "id": "4bad413f",
   "metadata": {
    "pycharm": {
     "name": "#%%\n"
    }
   },
   "outputs": [],
   "source": [
    "def dtw(s, t, window = 5):\n",
    "    n, m = len(s), len(t)\n",
    "    w = np.max([window, abs(n-m)]) # warping cannot be less than the difference in lengths. \n",
    "    dtw_matrix = np.zeros((n+1, m+1))\n",
    "    \n",
    "    for i in range(n+1):\n",
    "        for j in range(m+1):\n",
    "            dtw_matrix[i, j] = np.inf\n",
    "    dtw_matrix[0, 0] = 0\n",
    "    \n",
    "    for i in range(1, n+1):\n",
    "        for j in range(np.max([1, i-w]), np.min([m, i+w])+1):\n",
    "            dtw_matrix[i, j] = 0\n",
    "    \n",
    "    for i in range(1, n+1):\n",
    "        for j in range(np.max([1, i-w]), np.min([m, i+w])+1):\n",
    "            cost = abs(s[i-1] - t[j-1])\n",
    "            # take last min from a square box\n",
    "            last_min = np.min([dtw_matrix[i-1, j], dtw_matrix[i, j-1], dtw_matrix[i-1, j-1]])\n",
    "            dtw_matrix[i, j] = cost + last_min\n",
    "    return dtw_matrix[-1,-1]"
   ]
  },
  {
   "cell_type": "code",
   "execution_count": 21,
   "id": "b4522f8f",
   "metadata": {
    "pycharm": {
     "name": "#%%\n"
    }
   },
   "outputs": [
    {
     "data": {
      "text/plain": [
       "KNeighborsClassifier(metric=<function dtw at 0x7f86b15b7f70>, n_neighbors=1)"
      ]
     },
     "execution_count": 21,
     "metadata": {},
     "output_type": "execute_result"
    }
   ],
   "source": [
    "from sklearn.neighbors import KNeighborsClassifier\n",
    "estimator = KNeighborsClassifier(n_neighbors=1, metric=dtw)\n",
    "estimator.fit(x_train,y_train)"
   ]
  },
  {
   "cell_type": "markdown",
   "id": "b9a449e3",
   "metadata": {
    "pycharm": {
     "name": "#%% md\n"
    }
   },
   "source": [
    "## 2. Test the performance of this classifier and compare with the 1-NN results from Task 1. Verify that the 1-NN results are consistent. "
   ]
  },
  {
   "cell_type": "code",
   "execution_count": 22,
   "id": "6e52c425",
   "metadata": {
    "pycharm": {
     "name": "#%%\n"
    }
   },
   "outputs": [],
   "source": [
    "import time\n",
    "\n",
    "# Knn Time and Accuracy\n",
    "start_time=time.time()\n",
    "y_predict = estimator.predict(x_test)\n",
    "end_time=time.time()\n",
    "cost_time=end_time-start_time\n",
    "#1NN time and Accuracy\n",
    "dtw_time_start = time.time()       \n",
    "dtw_predict = dtw_1nn(x_train,y_train,x_test,5)\n",
    "dtw_time_1nn = time.time()-dtw_time_start      \n",
    "\n",
    "\n",
    "dtw_accuracy_score = accuracy_score(y_test, dtw_predict)\n",
    "knn_dtw_accuracy = accuracy_score(y_test, y_predict)"
   ]
  },
  {
   "cell_type": "code",
   "execution_count": 23,
   "id": "22b1e0f4",
   "metadata": {
    "pycharm": {
     "name": "#%%\n"
    }
   },
   "outputs": [
    {
     "data": {
      "text/html": [
       "<div>\n",
       "<style scoped>\n",
       "    .dataframe tbody tr th:only-of-type {\n",
       "        vertical-align: middle;\n",
       "    }\n",
       "\n",
       "    .dataframe tbody tr th {\n",
       "        vertical-align: top;\n",
       "    }\n",
       "\n",
       "    .dataframe thead th {\n",
       "        text-align: right;\n",
       "    }\n",
       "</style>\n",
       "<table border=\"1\" class=\"dataframe\">\n",
       "  <thead>\n",
       "    <tr style=\"text-align: right;\">\n",
       "      <th></th>\n",
       "      <th>Run Time</th>\n",
       "      <th>Accuracy</th>\n",
       "    </tr>\n",
       "  </thead>\n",
       "  <tbody>\n",
       "    <tr>\n",
       "      <th>Knn_DTW</th>\n",
       "      <td>65.047923</td>\n",
       "      <td>0.979167</td>\n",
       "    </tr>\n",
       "    <tr>\n",
       "      <th>1NN_DTW</th>\n",
       "      <td>65.252141</td>\n",
       "      <td>0.979167</td>\n",
       "    </tr>\n",
       "  </tbody>\n",
       "</table>\n",
       "</div>"
      ],
      "text/plain": [
       "          Run Time  Accuracy\n",
       "Knn_DTW  65.047923  0.979167\n",
       "1NN_DTW  65.252141  0.979167"
      ]
     },
     "execution_count": 23,
     "metadata": {},
     "output_type": "execute_result"
    }
   ],
   "source": [
    "#### prepare reuslt\n",
    "result_data = {'Run Time':[cost_time,dtw_time_1nn],'Accuracy':[knn_dtw_accuracy,dtw_accuracy_score]}\n",
    "result = pd.DataFrame(result_data, index = ['Knn_DTW','1NN_DTW'])\n",
    "result"
   ]
  },
  {
   "cell_type": "markdown",
   "id": "4f62699b",
   "metadata": {
    "pycharm": {
     "name": "#%% md\n"
    }
   },
   "source": [
    "##### The results show that Knn-DTW and 1NN- DTW are consistent in accuracy. Since the computer is running other software at the same time, there is a small inconsistent in Run Time, which is negligible."
   ]
  },
  {
   "cell_type": "markdown",
   "id": "afcb7660",
   "metadata": {
    "pycharm": {
     "name": "#%% md\n"
    }
   },
   "source": [
    "## 3. Compare with k-NN Euclidean. "
   ]
  },
  {
   "cell_type": "code",
   "execution_count": 24,
   "id": "95f7f529",
   "metadata": {
    "pycharm": {
     "name": "#%%\n"
    }
   },
   "outputs": [],
   "source": [
    "estimator = KNeighborsClassifier(n_neighbors=1)\n",
    "estimator.fit(x_train,y_train)\n",
    "\n",
    "#evaluate\n",
    "start_time=time.time()\n",
    "y_predict = estimator.predict(x_test)\n",
    "end_time=time.time()\n",
    "knn_time=end_time-start_time\n",
    "knn_accuracy = accuracy_score(y_test, y_predict)"
   ]
  },
  {
   "cell_type": "code",
   "execution_count": 25,
   "id": "1d46fd5c",
   "metadata": {
    "pycharm": {
     "name": "#%%\n"
    }
   },
   "outputs": [
    {
     "data": {
      "text/html": [
       "<div>\n",
       "<style scoped>\n",
       "    .dataframe tbody tr th:only-of-type {\n",
       "        vertical-align: middle;\n",
       "    }\n",
       "\n",
       "    .dataframe tbody tr th {\n",
       "        vertical-align: top;\n",
       "    }\n",
       "\n",
       "    .dataframe thead th {\n",
       "        text-align: right;\n",
       "    }\n",
       "</style>\n",
       "<table border=\"1\" class=\"dataframe\">\n",
       "  <thead>\n",
       "    <tr style=\"text-align: right;\">\n",
       "      <th></th>\n",
       "      <th>Run Time</th>\n",
       "      <th>Accuracy</th>\n",
       "    </tr>\n",
       "  </thead>\n",
       "  <tbody>\n",
       "    <tr>\n",
       "      <th>Knn_DTW</th>\n",
       "      <td>65.047923</td>\n",
       "      <td>0.979167</td>\n",
       "    </tr>\n",
       "    <tr>\n",
       "      <th>1nn_DTW</th>\n",
       "      <td>65.252141</td>\n",
       "      <td>0.979167</td>\n",
       "    </tr>\n",
       "    <tr>\n",
       "      <th>Knn_Euclidean</th>\n",
       "      <td>0.017984</td>\n",
       "      <td>0.854167</td>\n",
       "    </tr>\n",
       "    <tr>\n",
       "      <th>1nn_Euclidean</th>\n",
       "      <td>0.297893</td>\n",
       "      <td>0.854167</td>\n",
       "    </tr>\n",
       "  </tbody>\n",
       "</table>\n",
       "</div>"
      ],
      "text/plain": [
       "                Run Time  Accuracy\n",
       "Knn_DTW        65.047923  0.979167\n",
       "1nn_DTW        65.252141  0.979167\n",
       "Knn_Euclidean   0.017984  0.854167\n",
       "1nn_Euclidean   0.297893  0.854167"
      ]
     },
     "execution_count": 25,
     "metadata": {},
     "output_type": "execute_result"
    }
   ],
   "source": [
    "#### prepare reuslt\n",
    "result_data = {'Run Time':[cost_time,dtw_time_1nn,knn_time,euc_time],'Accuracy':[knn_dtw_accuracy,dtw_accuracy_score, knn_accuracy,euc_accuracy_score]}\n",
    "result = pd.DataFrame(result_data, index = ['Knn_DTW','1nn_DTW','Knn_Euclidean','1nn_Euclidean'])\n",
    "result"
   ]
  },
  {
   "cell_type": "markdown",
   "id": "fe4959b2",
   "metadata": {
    "pycharm": {
     "name": "#%% md\n"
    }
   },
   "source": [
    "##### The results show that Knn-DTW and 1NN- DTW are consistent in accuracy. Since the computer is running other software at the same time, there is a small inconsistent in Run Time, which is negligible."
   ]
  }
 ],
 "metadata": {
  "kernelspec": {
   "display_name": "Python 3 (ipykernel)",
   "language": "python",
   "name": "python3"
  },
  "language_info": {
   "codemirror_mode": {
    "name": "ipython",
    "version": 3
   },
   "file_extension": ".py",
   "mimetype": "text/x-python",
   "name": "python",
   "nbconvert_exporter": "python",
   "pygments_lexer": "ipython3",
   "version": "3.9.12"
  }
 },
 "nbformat": 4,
 "nbformat_minor": 5
}