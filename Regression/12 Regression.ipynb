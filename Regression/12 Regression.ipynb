{
 "cells": [
  {
   "cell_type": "markdown",
   "metadata": {},
   "source": [
    "# Linear Regression"
   ]
  },
  {
   "cell_type": "code",
   "execution_count": null,
   "metadata": {},
   "outputs": [],
   "source": [
    "import pandas as pd\n",
    "import numpy as np\n",
    "\n",
    "weight_pd = pd.read_csv('weightV2.csv')\n",
    "weight_pd.head()"
   ]
  },
  {
   "cell_type": "code",
   "execution_count": null,
   "metadata": {},
   "outputs": [],
   "source": [
    "y = weight_pd.pop('Weight').values\n",
    "X = weight_pd.values\n",
    "X.shape"
   ]
  },
  {
   "cell_type": "code",
   "execution_count": null,
   "metadata": {},
   "outputs": [],
   "source": [
    "from sklearn.linear_model import LinearRegression\n",
    "reg = LinearRegression().fit(X, y)\n",
    "print(' R squared statistic: {:.2f}'.format(reg.score(X, y)))\n",
    "print(' Slope: {:.2f}'.format(reg.coef_[0]))\n",
    "print(' Intercept: {:.2f}'.format(reg.intercept_))"
   ]
  },
  {
   "cell_type": "code",
   "execution_count": null,
   "metadata": {},
   "outputs": [],
   "source": [
    "import matplotlib.pyplot as plt\n",
    "%matplotlib inline\n",
    "Y_pred = reg.predict(X)\n",
    "\n",
    "plt.scatter(X, y, s = 10)\n",
    "plt.plot(X, Y_pred, color='red')\n",
    "plt.xlabel('Waist')\n",
    "plt.ylabel('Weight')\n",
    "plt.title ('Weight v Waist with Regression Line' )\n",
    "plt.show()"
   ]
  },
  {
   "cell_type": "markdown",
   "metadata": {},
   "source": [
    "## Multivariate Regression"
   ]
  },
  {
   "cell_type": "code",
   "execution_count": null,
   "metadata": {},
   "outputs": [],
   "source": [
    "bikes_df = pd.read_csv('bike_sharing.csv')\n",
    "bikes_df.head()"
   ]
  },
  {
   "cell_type": "code",
   "execution_count": null,
   "metadata": {},
   "outputs": [],
   "source": [
    "y = bikes_df.pop('count').values\n",
    "bikes_df.pop('casual').values\n",
    "bikes_df.pop('registered').values\n",
    "bikes_df.pop('instant').values\n",
    "bikes_df.pop('dteday').values\n",
    "\n",
    "#X = bikes_df[['atemp']].values\n",
    "\n",
    "X = bikes_df.values\n",
    "X.shape"
   ]
  },
  {
   "cell_type": "code",
   "execution_count": null,
   "metadata": {},
   "outputs": [],
   "source": [
    "from sklearn.linear_model import LinearRegression\n",
    "from sklearn.metrics import mean_absolute_percentage_error as MAPE\n",
    "from sklearn.preprocessing import StandardScaler\n",
    "X_scal = StandardScaler().fit_transform(X)\n",
    "\n",
    "reg = LinearRegression().fit(X_scal, y)\n",
    "print(' R squared statistic: {:.3f}'.format(reg.score(X_scal, y)))\n",
    "print(' Slope: {:.2f}'.format(reg.coef_[0]))\n",
    "print(' Intercept: {:.2f}'.format(reg.intercept_))"
   ]
  },
  {
   "cell_type": "code",
   "execution_count": null,
   "metadata": {},
   "outputs": [],
   "source": [
    "for i,j in zip(reg.coef_, bikes_df.columns):\n",
    "    print(i,j)"
   ]
  },
  {
   "cell_type": "code",
   "execution_count": null,
   "metadata": {},
   "outputs": [],
   "source": [
    "from sklearn.linear_model import SGDRegressor\n",
    "SGD = SGDRegressor(max_iter=50, tol=1e-3).fit(X_scal, y)\n",
    "print(' R squared statistic: {:.3f}'.format(SGD.score(X_scal, y)))\n",
    "print(' Slope: {:.2f}'.format(SGD.coef_[0]))\n",
    "print(' Intercept: {:.2f}'.format(SGD.intercept_[0]))"
   ]
  },
  {
   "cell_type": "code",
   "execution_count": null,
   "metadata": {},
   "outputs": [],
   "source": [
    "for i,j in zip(SGD.coef_, bikes_df.columns):\n",
    "    print(i,j)"
   ]
  },
  {
   "cell_type": "code",
   "execution_count": null,
   "metadata": {},
   "outputs": [],
   "source": [
    "MAPE(y, SGD.predict(X_scal))"
   ]
  },
  {
   "cell_type": "code",
   "execution_count": null,
   "metadata": {},
   "outputs": [],
   "source": [
    "from sklearn.metrics import mean_absolute_error"
   ]
  },
  {
   "cell_type": "code",
   "execution_count": null,
   "metadata": {},
   "outputs": [],
   "source": [
    "mean_absolute_error(y, SGD.predict(X_scal))"
   ]
  },
  {
   "cell_type": "code",
   "execution_count": null,
   "metadata": {},
   "outputs": [],
   "source": []
  }
 ],
 "metadata": {
  "kernelspec": {
   "display_name": "Python 3",
   "language": "python",
   "name": "python3"
  },
  "language_info": {
   "codemirror_mode": {
    "name": "ipython",
    "version": 3
   },
   "file_extension": ".py",
   "mimetype": "text/x-python",
   "name": "python",
   "nbconvert_exporter": "python",
   "pygments_lexer": "ipython3",
   "version": "3.8.8"
  }
 },
 "nbformat": 4,
 "nbformat_minor": 2
}
