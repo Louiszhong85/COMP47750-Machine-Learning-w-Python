{
 "cells": [
  {
   "cell_type": "markdown",
   "id": "2f607f96",
   "metadata": {
    "pycharm": {
     "name": "#%% md\n"
    }
   },
   "source": [
    "# Statistics\n",
    "This notebook is part of a collection of supplementary material designed to bring student up to speed on the mathematics required for COMP47750 Mathematics with Python.   \n",
    "This notebook introduces covariance matrices and data normalisation.  \n",
    "This material is covered in the lecture **M1 Statistics**.   \n",
    "  \n",
    "You may need to install `seaborn` to run this notebook.  \n",
    "You could use the command `pip install seaborn` from the command line."
   ]
  },
  {
   "cell_type": "code",
   "execution_count": 1,
   "id": "ca795d00",
   "metadata": {
    "pycharm": {
     "name": "#%%\n"
    }
   },
   "outputs": [],
   "source": [
    "import matplotlib.pyplot as plt\n",
    "%matplotlib inline\n",
    "\n",
    "import numpy as np\n",
    "import pandas as pd\n",
    "import seaborn as sns\n",
    "# Load the Penguins dataset\n",
    "penguins_all = pd.read_csv('penguins_af.csv')"
   ]
  },
  {
   "cell_type": "markdown",
   "id": "c13ba372",
   "metadata": {
    "pycharm": {
     "name": "#%% md\n"
    }
   },
   "source": [
    "Reduce the dataset to just 4 descriptive features and the class label `species`"
   ]
  },
  {
   "cell_type": "code",
   "execution_count": null,
   "id": "4c2dcfa9",
   "metadata": {
    "pycharm": {
     "name": "#%%\n"
    }
   },
   "outputs": [],
   "source": [
    "label_4f = ['bill_length_mm', 'bill_depth_mm','flipper_length_mm', 'body_mass_g', 'species']\n",
    "penguins_4f = penguins_all[label_4f]"
   ]
  },
  {
   "cell_type": "code",
   "execution_count": null,
   "id": "e5d8b6e6",
   "metadata": {
    "pycharm": {
     "name": "#%%\n"
    }
   },
   "outputs": [],
   "source": [
    "penguins_4f['species'].value_counts()"
   ]
  },
  {
   "cell_type": "markdown",
   "id": "9ab454c5",
   "metadata": {
    "pycharm": {
     "name": "#%% md\n"
    }
   },
   "source": [
    "### Seaborn Pairplot\n",
    "This provides a good overview of the relationships between the features.  \n",
    "The plots on the diagonal show the feature distributions.  \n",
    "The off-diagonal plots provide insight on feature correlations. "
   ]
  },
  {
   "cell_type": "code",
   "execution_count": null,
   "id": "284544ff",
   "metadata": {
    "pycharm": {
     "name": "#%%\n"
    }
   },
   "outputs": [],
   "source": [
    "sns.pairplot(penguins_4f, hue=\"species\")"
   ]
  },
  {
   "cell_type": "markdown",
   "id": "3cb7df61",
   "metadata": {
    "pycharm": {
     "name": "#%% md\n"
    }
   },
   "source": [
    "Extract a dataframe with just the `Gentoo` samples. "
   ]
  },
  {
   "cell_type": "code",
   "execution_count": null,
   "id": "c1b81376",
   "metadata": {
    "pycharm": {
     "name": "#%%\n"
    }
   },
   "outputs": [],
   "source": [
    "Gentoo_df = penguins_4f[penguins_4f['species']=='Gentoo']"
   ]
  },
  {
   "cell_type": "code",
   "execution_count": null,
   "id": "ecf9d849",
   "metadata": {
    "pycharm": {
     "name": "#%%\n"
    }
   },
   "outputs": [],
   "source": [
    "Gentoo_df.head()"
   ]
  },
  {
   "cell_type": "code",
   "execution_count": null,
   "id": "bd928b13",
   "metadata": {
    "pycharm": {
     "name": "#%%\n"
    }
   },
   "outputs": [],
   "source": [
    "sns.pairplot(Gentoo_df, diag_kind = 'kde')"
   ]
  },
  {
   "cell_type": "markdown",
   "id": "7dc4d2da",
   "metadata": {
    "pycharm": {
     "name": "#%% md\n"
    }
   },
   "source": [
    "The covariance matrix for the `Gentoo` class. "
   ]
  },
  {
   "cell_type": "code",
   "execution_count": null,
   "id": "7cacb4eb",
   "metadata": {
    "scrolled": true,
    "pycharm": {
     "name": "#%%\n"
    }
   },
   "outputs": [],
   "source": [
    "Gentoo_df.cov().round(decimals = 2)"
   ]
  },
  {
   "cell_type": "markdown",
   "id": "7206f8a2",
   "metadata": {
    "pycharm": {
     "name": "#%% md\n"
    }
   },
   "source": [
    "Normalise the data to get a clearer picture.  \n",
    "The four features are normalised to mean = 0 and standard deviation = 1."
   ]
  },
  {
   "cell_type": "code",
   "execution_count": null,
   "id": "564285aa",
   "metadata": {
    "pycharm": {
     "name": "#%%\n"
    }
   },
   "outputs": [],
   "source": [
    "Gentoo_df.pop('species')\n",
    "Gentoo_dfN = (Gentoo_df-Gentoo_df.mean())/Gentoo_df.std()"
   ]
  },
  {
   "cell_type": "code",
   "execution_count": null,
   "id": "d7e12f5a",
   "metadata": {
    "pycharm": {
     "name": "#%%\n"
    }
   },
   "outputs": [],
   "source": [
    "Gentoo_dfN.cov().round(decimals = 2)"
   ]
  },
  {
   "cell_type": "markdown",
   "id": "845c6928",
   "metadata": {
    "pycharm": {
     "name": "#%% md\n"
    }
   },
   "source": [
    "### Law of Large Numbers \n",
    "Estimating Means"
   ]
  },
  {
   "cell_type": "code",
   "execution_count": null,
   "id": "d99961e4",
   "metadata": {
    "pycharm": {
     "name": "#%%\n"
    }
   },
   "outputs": [],
   "source": [
    "n_trials = 100000\n",
    "sample_means = []\n",
    "for trial in range(n_trials):\n",
    "    sample_means.append(Gentoo_dfN.sample(5)['body_mass_g'].values.mean())"
   ]
  },
  {
   "cell_type": "code",
   "execution_count": null,
   "id": "73fb8050",
   "metadata": {
    "pycharm": {
     "name": "#%%\n"
    }
   },
   "outputs": [],
   "source": [
    "sns.displot(sample_means, kind = 'kde')"
   ]
  },
  {
   "cell_type": "code",
   "execution_count": null,
   "id": "33b1e70e",
   "metadata": {
    "pycharm": {
     "name": "#%%\n"
    }
   },
   "outputs": [],
   "source": []
  }
 ],
 "metadata": {
  "kernelspec": {
   "display_name": "Python 3",
   "language": "python",
   "name": "python3"
  },
  "language_info": {
   "codemirror_mode": {
    "name": "ipython",
    "version": 3
   },
   "file_extension": ".py",
   "mimetype": "text/x-python",
   "name": "python",
   "nbconvert_exporter": "python",
   "pygments_lexer": "ipython3",
   "version": "3.8.8"
  }
 },
 "nbformat": 4,
 "nbformat_minor": 5
}