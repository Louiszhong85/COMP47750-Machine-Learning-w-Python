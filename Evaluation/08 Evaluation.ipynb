{
 "cells": [
  {
   "cell_type": "markdown",
   "metadata": {
    "pycharm": {
     "name": "#%% md\n"
    }
   },
   "source": [
    "# Evaluation"
   ]
  },
  {
   "cell_type": "code",
   "execution_count": 2,
   "metadata": {
    "pycharm": {
     "name": "#%%\n"
    }
   },
   "outputs": [],
   "source": [
    "import pandas as pd\n",
    "from sklearn.naive_bayes import MultinomialNB, GaussianNB, BernoulliNB\n",
    "from sklearn.neighbors import KNeighborsClassifier\n",
    "from sklearn.tree import DecisionTreeClassifier\n",
    "from sklearn.preprocessing import StandardScaler\n",
    "from sklearn.model_selection import train_test_split\n",
    "from sklearn.metrics import classification_report\n",
    "from matplotlib import pyplot as plt\n",
    "from sklearn.metrics import confusion_matrix, accuracy_score, ConfusionMatrixDisplay"
   ]
  },
  {
   "cell_type": "code",
   "execution_count": 3,
   "metadata": {
    "scrolled": true,
    "pycharm": {
     "name": "#%%\n"
    }
   },
   "outputs": [
    {
     "data": {
      "text/plain": "   hotelId  aveHelpfulnessRatioUser  stdevHelpfulnessRatioUser  \\\n0    17420                 1.000000                   0.000000   \n1     1397                 0.772487                   0.377321   \n2     1348                 0.715473                   0.300437   \n3     5940                 0.521250                   0.481675   \n4       38                 0.603175                   0.246926   \n\n   pcReviewsExceedMinHelpfulnessSupport  numReviewsUser  numReviewsHotel  \\\n0                              0.666667               3               16   \n1                              0.500000              12              233   \n2                              0.833333              12              302   \n3                              0.222222              36                6   \n4                              1.000000               2              271   \n\n   ratingUser  numberSubRatingsUser  subRatingMeanUser  subRatingStdevUser  \\\n0           5                     4           4.000000            0.000000   \n1           5                     0           0.000000            0.000000   \n2           4                     7           3.714286            0.755929   \n3           1                     4           1.000000            0.000000   \n4           3                     0           0.000000            0.000000   \n\n   ...  completeness_2  completeness_3  numberTermsEntry  \\\n0  ...               0               1               182   \n1  ...               0               0               158   \n2  ...               0               3                59   \n3  ...               0               0                95   \n4  ...               0               0                43   \n\n   percentageAlphaCharsEntry  fractionUpperCaseCharsEntry  \\\n0                   0.788474                     0.025703   \n1                   0.791888                     0.012594   \n2                   0.799639                     0.024831   \n3                   0.782212                     0.029155   \n4                   0.805128                     0.028662   \n\n   fractionYouVsIEntry  numberTermsSummaryQuote  \\\n0             0.500000                        6   \n1             0.500000                        1   \n2             0.333333                        4   \n3             0.500000                        2   \n4             0.000000                        1   \n\n   percentageAlphaCharsSummaryQuote  fractionUpperCaseCharsSummaryQuote  \\\n0                          0.815789                            0.096774   \n1                          1.000000                            0.083333   \n2                          0.828571                            0.034483   \n3                          0.800000                            0.062500   \n4                          1.000000                            0.142857   \n\n   reviewHelpfulness  \n0                  1  \n1                  1  \n2                  0  \n3                  0  \n4                  0  \n\n[5 rows x 25 columns]",
      "text/html": "<div>\n<style scoped>\n    .dataframe tbody tr th:only-of-type {\n        vertical-align: middle;\n    }\n\n    .dataframe tbody tr th {\n        vertical-align: top;\n    }\n\n    .dataframe thead th {\n        text-align: right;\n    }\n</style>\n<table border=\"1\" class=\"dataframe\">\n  <thead>\n    <tr style=\"text-align: right;\">\n      <th></th>\n      <th>hotelId</th>\n      <th>aveHelpfulnessRatioUser</th>\n      <th>stdevHelpfulnessRatioUser</th>\n      <th>pcReviewsExceedMinHelpfulnessSupport</th>\n      <th>numReviewsUser</th>\n      <th>numReviewsHotel</th>\n      <th>ratingUser</th>\n      <th>numberSubRatingsUser</th>\n      <th>subRatingMeanUser</th>\n      <th>subRatingStdevUser</th>\n      <th>...</th>\n      <th>completeness_2</th>\n      <th>completeness_3</th>\n      <th>numberTermsEntry</th>\n      <th>percentageAlphaCharsEntry</th>\n      <th>fractionUpperCaseCharsEntry</th>\n      <th>fractionYouVsIEntry</th>\n      <th>numberTermsSummaryQuote</th>\n      <th>percentageAlphaCharsSummaryQuote</th>\n      <th>fractionUpperCaseCharsSummaryQuote</th>\n      <th>reviewHelpfulness</th>\n    </tr>\n  </thead>\n  <tbody>\n    <tr>\n      <th>0</th>\n      <td>17420</td>\n      <td>1.000000</td>\n      <td>0.000000</td>\n      <td>0.666667</td>\n      <td>3</td>\n      <td>16</td>\n      <td>5</td>\n      <td>4</td>\n      <td>4.000000</td>\n      <td>0.000000</td>\n      <td>...</td>\n      <td>0</td>\n      <td>1</td>\n      <td>182</td>\n      <td>0.788474</td>\n      <td>0.025703</td>\n      <td>0.500000</td>\n      <td>6</td>\n      <td>0.815789</td>\n      <td>0.096774</td>\n      <td>1</td>\n    </tr>\n    <tr>\n      <th>1</th>\n      <td>1397</td>\n      <td>0.772487</td>\n      <td>0.377321</td>\n      <td>0.500000</td>\n      <td>12</td>\n      <td>233</td>\n      <td>5</td>\n      <td>0</td>\n      <td>0.000000</td>\n      <td>0.000000</td>\n      <td>...</td>\n      <td>0</td>\n      <td>0</td>\n      <td>158</td>\n      <td>0.791888</td>\n      <td>0.012594</td>\n      <td>0.500000</td>\n      <td>1</td>\n      <td>1.000000</td>\n      <td>0.083333</td>\n      <td>1</td>\n    </tr>\n    <tr>\n      <th>2</th>\n      <td>1348</td>\n      <td>0.715473</td>\n      <td>0.300437</td>\n      <td>0.833333</td>\n      <td>12</td>\n      <td>302</td>\n      <td>4</td>\n      <td>7</td>\n      <td>3.714286</td>\n      <td>0.755929</td>\n      <td>...</td>\n      <td>0</td>\n      <td>3</td>\n      <td>59</td>\n      <td>0.799639</td>\n      <td>0.024831</td>\n      <td>0.333333</td>\n      <td>4</td>\n      <td>0.828571</td>\n      <td>0.034483</td>\n      <td>0</td>\n    </tr>\n    <tr>\n      <th>3</th>\n      <td>5940</td>\n      <td>0.521250</td>\n      <td>0.481675</td>\n      <td>0.222222</td>\n      <td>36</td>\n      <td>6</td>\n      <td>1</td>\n      <td>4</td>\n      <td>1.000000</td>\n      <td>0.000000</td>\n      <td>...</td>\n      <td>0</td>\n      <td>0</td>\n      <td>95</td>\n      <td>0.782212</td>\n      <td>0.029155</td>\n      <td>0.500000</td>\n      <td>2</td>\n      <td>0.800000</td>\n      <td>0.062500</td>\n      <td>0</td>\n    </tr>\n    <tr>\n      <th>4</th>\n      <td>38</td>\n      <td>0.603175</td>\n      <td>0.246926</td>\n      <td>1.000000</td>\n      <td>2</td>\n      <td>271</td>\n      <td>3</td>\n      <td>0</td>\n      <td>0.000000</td>\n      <td>0.000000</td>\n      <td>...</td>\n      <td>0</td>\n      <td>0</td>\n      <td>43</td>\n      <td>0.805128</td>\n      <td>0.028662</td>\n      <td>0.000000</td>\n      <td>1</td>\n      <td>1.000000</td>\n      <td>0.142857</td>\n      <td>0</td>\n    </tr>\n  </tbody>\n</table>\n<p>5 rows × 25 columns</p>\n</div>"
     },
     "execution_count": 3,
     "metadata": {},
     "output_type": "execute_result"
    }
   ],
   "source": [
    "hotel_rev = pd.read_csv('HotelRevHelpfulness.csv')\n",
    "hotel_rev.head()"
   ]
  },
  {
   "cell_type": "markdown",
   "metadata": {
    "pycharm": {
     "name": "#%% md\n"
    }
   },
   "source": [
    "'reviewHelpfulness' is the class label. `1` is positive and `0` is negative."
   ]
  },
  {
   "cell_type": "code",
   "execution_count": 4,
   "metadata": {
    "pycharm": {
     "name": "#%%\n"
    }
   },
   "outputs": [
    {
     "name": "stdout",
     "output_type": "stream",
     "text": [
      "486 Samples\n",
      "308 Positive \n",
      "178 Negative\n"
     ]
    }
   ],
   "source": [
    "n = hotel_rev.shape[0]\n",
    "np = hotel_rev['reviewHelpfulness'].sum()\n",
    "nn = n - np\n",
    "print('{} Samples'.format(n))\n",
    "print('{} Positive \\n{} Negative'.format(np,nn))"
   ]
  },
  {
   "cell_type": "code",
   "execution_count": 5,
   "metadata": {
    "pycharm": {
     "name": "#%%\n"
    }
   },
   "outputs": [
    {
     "name": "stdout",
     "output_type": "stream",
     "text": [
      "X_test shape:  (162, 24)\n"
     ]
    }
   ],
   "source": [
    "y = hotel_rev.pop('reviewHelpfulness').values\n",
    "Xraw = hotel_rev.values\n",
    "scaler = StandardScaler()\n",
    "X = scaler.fit_transform(Xraw)\n",
    "X_train, X_test, y_train, y_test = train_test_split(X, y, random_state=0, test_size=1/3)\n",
    "print(\"X_test shape: \",X_test.shape)"
   ]
  },
  {
   "cell_type": "code",
   "execution_count": 6,
   "metadata": {
    "pycharm": {
     "name": "#%%\n"
    }
   },
   "outputs": [],
   "source": [
    "mnb = GaussianNB()\n",
    "hotel_rev_NB = mnb.fit(X_train, y_train)\n",
    "y_dash = hotel_rev_NB.predict(X_test)"
   ]
  },
  {
   "cell_type": "markdown",
   "metadata": {
    "pycharm": {
     "name": "#%% md\n"
    }
   },
   "source": [
    "### Accuracy & Confusion Matrix\n",
    "With the confusion matrix, rows are actual and columns are predicted.   \n",
    "If 0 is negative and 1 is positive `C(0,0)` is TN and `C(1,1)` is TP.  \n",
    "TN, FP  \n",
    "FN, TP\n"
   ]
  },
  {
   "cell_type": "code",
   "execution_count": 7,
   "metadata": {
    "scrolled": true,
    "pycharm": {
     "name": "#%%\n"
    }
   },
   "outputs": [
    {
     "name": "stdout",
     "output_type": "stream",
     "text": [
      "Accuracy: 0.69\n",
      "Confusion matrix:\n",
      "[[42 20]\n",
      " [30 70]]\n"
     ]
    }
   ],
   "source": [
    "acc = accuracy_score(y_test, y_dash)\n",
    "print(\"Accuracy: {0:.2f}\".format(acc)) \n",
    "confusion = confusion_matrix(y_test, y_dash)\n",
    "print(\"Confusion matrix:\\n{}\".format(confusion)) "
   ]
  },
  {
   "cell_type": "code",
   "execution_count": 8,
   "metadata": {
    "pycharm": {
     "name": "#%%\n"
    }
   },
   "outputs": [
    {
     "data": {
      "text/plain": "<sklearn.metrics._plot.confusion_matrix.ConfusionMatrixDisplay at 0x7f9e29831e20>"
     },
     "execution_count": 8,
     "metadata": {},
     "output_type": "execute_result"
    },
    {
     "data": {
      "text/plain": "<Figure size 216x216 with 2 Axes>",
      "image/png": "[encoded data removed]"
     },
     "metadata": {
      "needs_background": "light"
     },
     "output_type": "display_data"
    }
   ],
   "source": [
    "disp = ConfusionMatrixDisplay(confusion)\n",
    "fig, ax = plt.subplots(figsize=(3,3))\n",
    "disp.plot(ax=ax)"
   ]
  },
  {
   "cell_type": "code",
   "execution_count": 9,
   "metadata": {
    "pycharm": {
     "name": "#%%\n"
    }
   },
   "outputs": [
    {
     "name": "stdout",
     "output_type": "stream",
     "text": [
      "Report:\n",
      "              precision    recall  f1-score   support\n",
      "\n",
      " Not Helpful       0.58      0.68      0.63        62\n",
      "     Helpful       0.78      0.70      0.74       100\n",
      "\n",
      "    accuracy                           0.69       162\n",
      "   macro avg       0.68      0.69      0.68       162\n",
      "weighted avg       0.70      0.69      0.69       162\n",
      "\n"
     ]
    }
   ],
   "source": [
    "report = classification_report(y_test, y_dash, target_names = ['Not Helpful','Helpful'])\n",
    "print(\"Report:\\n{}\".format(report)) "
   ]
  },
  {
   "cell_type": "markdown",
   "metadata": {
    "pycharm": {
     "name": "#%% md\n"
    }
   },
   "source": [
    "## SVM"
   ]
  },
  {
   "cell_type": "code",
   "execution_count": 10,
   "metadata": {
    "pycharm": {
     "name": "#%%\n"
    }
   },
   "outputs": [],
   "source": [
    " from sklearn.svm import SVC\n",
    "svm = SVC(kernel = 'linear',C=1)\n",
    "hotel_rev_SVM = svm.fit(X_train, y_train)\n",
    "y_dash = hotel_rev_SVM.predict(X_test)"
   ]
  },
  {
   "cell_type": "code",
   "execution_count": 11,
   "metadata": {
    "pycharm": {
     "name": "#%%\n"
    }
   },
   "outputs": [
    {
     "name": "stdout",
     "output_type": "stream",
     "text": [
      "Accuracy: 0.70\n",
      "Confusion matrix:\n",
      "[[34 28]\n",
      " [21 79]]\n"
     ]
    }
   ],
   "source": [
    "acc = accuracy_score(y_test, y_dash)\n",
    "print(\"Accuracy: {0:.2f}\".format(acc)) \n",
    "confusion = confusion_matrix(y_test, y_dash)\n",
    "print(\"Confusion matrix:\\n{}\".format(confusion)) "
   ]
  },
  {
   "cell_type": "code",
   "execution_count": 12,
   "metadata": {
    "pycharm": {
     "name": "#%%\n"
    }
   },
   "outputs": [
    {
     "name": "stdout",
     "output_type": "stream",
     "text": [
      "Report:\n",
      "              precision    recall  f1-score   support\n",
      "\n",
      " Not Helpful       0.62      0.55      0.58        62\n",
      "     Helpful       0.74      0.79      0.76       100\n",
      "\n",
      "    accuracy                           0.70       162\n",
      "   macro avg       0.68      0.67      0.67       162\n",
      "weighted avg       0.69      0.70      0.69       162\n",
      "\n"
     ]
    }
   ],
   "source": [
    "report = classification_report(y_test, y_dash, target_names = ['Not Helpful','Helpful'])\n",
    "print(\"Report:\\n{}\".format(report)) "
   ]
  },
  {
   "cell_type": "markdown",
   "metadata": {
    "pycharm": {
     "name": "#%% md\n"
    }
   },
   "source": [
    "### F1 Measure"
   ]
  },
  {
   "cell_type": "code",
   "execution_count": 13,
   "metadata": {
    "pycharm": {
     "name": "#%%\n"
    }
   },
   "outputs": [],
   "source": [
    "from sklearn.metrics import f1_score\n",
    "kNN = KNeighborsClassifier(n_neighbors=3)  \n",
    "dtree = DecisionTreeClassifier(criterion='entropy')\n",
    "mnb = GaussianNB()\n",
    "models = [mnb,kNN,dtree]"
   ]
  },
  {
   "cell_type": "code",
   "execution_count": 14,
   "metadata": {
    "pycharm": {
     "name": "#%%\n"
    }
   },
   "outputs": [
    {
     "name": "stdout",
     "output_type": "stream",
     "text": [
      "F1 Measure\n",
      "F1 Score on Test set GaussianNB             0.74\n",
      "F1 Score on Test set KNeighborsClassifier   0.73\n",
      "F1 Score on Test set DecisionTreeClassifier 0.74\n"
     ]
    }
   ],
   "source": [
    "X_train, X_test, y_train, y_test = train_test_split(X, y, \n",
    "                                                    random_state=0, \n",
    "                                                    test_size=1/3)\n",
    "print('F1 Measure')\n",
    "for m in models:\n",
    "    mm = m.fit(X_train, y_train)\n",
    "    y_pred = mm.predict(X_test)\n",
    "    f1s = f1_score(y_test, y_pred) \n",
    "    print(\"F1 Score on Test set {:22} {:.2f}\".format(type(m).__name__, f1s)) "
   ]
  },
  {
   "cell_type": "markdown",
   "metadata": {
    "pycharm": {
     "name": "#%% md\n"
    }
   },
   "source": [
    "## Cross Validation\n",
    "`cross_val_score` will run a k-fold cross validation.  \n",
    "Using 4-fold cross validation because my machine has 4 threads (2 cores) and multiple cores are used on the SVM evaluation.  \n",
    "5-fold X-Val effectively doubles processing time. "
   ]
  },
  {
   "cell_type": "code",
   "execution_count": 15,
   "metadata": {
    "pycharm": {
     "name": "#%%\n"
    }
   },
   "outputs": [
    {
     "name": "stdout",
     "output_type": "stream",
     "text": [
      "4x CV Accuracy Naive Bayes: 0.64\n"
     ]
    },
    {
     "data": {
      "text/plain": "array([0.53278689, 0.66393443, 0.67768595, 0.68595041])"
     },
     "execution_count": 15,
     "metadata": {},
     "output_type": "execute_result"
    }
   ],
   "source": [
    "from sklearn.model_selection import cross_val_score\n",
    "mnb = GaussianNB()\n",
    "scores = cross_val_score(mnb, X, y, cv=4)\n",
    "print(\"4x CV Accuracy Naive Bayes: {0:.2f}\".format(scores.mean())) \n",
    "scores"
   ]
  },
  {
   "cell_type": "code",
   "execution_count": 16,
   "metadata": {
    "pycharm": {
     "name": "#%%\n"
    }
   },
   "outputs": [
    {
     "name": "stdout",
     "output_type": "stream",
     "text": [
      "4x CV Accuracy kNNs: 0.64\n"
     ]
    },
    {
     "data": {
      "text/plain": "array([0.58196721, 0.60655738, 0.69421488, 0.67768595])"
     },
     "execution_count": 16,
     "metadata": {},
     "output_type": "execute_result"
    }
   ],
   "source": [
    "kNN = KNeighborsClassifier(n_neighbors=3)  \n",
    "kNN_scores = cross_val_score(kNN, X, y, cv=4)\n",
    "print(\"4x CV Accuracy kNNs: {0:.2f}\".format(kNN_scores.mean())) \n",
    "kNN_scores\n"
   ]
  },
  {
   "cell_type": "code",
   "execution_count": 17,
   "metadata": {
    "pycharm": {
     "name": "#%%\n"
    }
   },
   "outputs": [
    {
     "name": "stdout",
     "output_type": "stream",
     "text": [
      "4x CV Accuracy Trees: 0.69\n"
     ]
    },
    {
     "data": {
      "text/plain": "array([0.67213115, 0.64754098, 0.7107438 , 0.7107438 ])"
     },
     "execution_count": 17,
     "metadata": {},
     "output_type": "execute_result"
    }
   ],
   "source": [
    "dtree = DecisionTreeClassifier(criterion='entropy')\n",
    "tree_scores = cross_val_score(dtree, X, y, cv=4)\n",
    "print(\"4x CV Accuracy Trees: {0:.2f}\".format(tree_scores.mean())) \n",
    "tree_scores"
   ]
  },
  {
   "cell_type": "code",
   "execution_count": 18,
   "metadata": {
    "scrolled": true,
    "pycharm": {
     "name": "#%%\n"
    }
   },
   "outputs": [
    {
     "name": "stdout",
     "output_type": "stream",
     "text": [
      "4x CV Accuracy SVMs: 0.72\n"
     ]
    },
    {
     "data": {
      "text/plain": "array([0.68032787, 0.71311475, 0.76859504, 0.7107438 ])"
     },
     "execution_count": 18,
     "metadata": {},
     "output_type": "execute_result"
    }
   ],
   "source": [
    "# n_jobs = -1 uses all available threads\n",
    "from sklearn.svm import SVC\n",
    "svm = SVC(kernel = 'linear',C=1)\n",
    "svm_scores = cross_val_score(svm, X, y, cv=4, verbose = 0,  n_jobs = -1)\n",
    "print(\"4x CV Accuracy SVMs: {0:.2f}\".format(svm_scores.mean())) \n",
    "svm_scores"
   ]
  },
  {
   "cell_type": "markdown",
   "metadata": {
    "pycharm": {
     "name": "#%% md\n"
    }
   },
   "source": [
    "SVC wins with 70% accuracy.  \n",
    "DTrees come in second with 67%.  \n",
    "k-NN is last at 63%"
   ]
  },
  {
   "cell_type": "markdown",
   "metadata": {
    "pycharm": {
     "name": "#%% md\n"
    }
   },
   "source": [
    "### F1 Score\n",
    "A balanced score that measures the harmonic mean between Precision and Recall."
   ]
  },
  {
   "cell_type": "code",
   "execution_count": 19,
   "metadata": {
    "pycharm": {
     "name": "#%%\n"
    }
   },
   "outputs": [],
   "source": [
    "from sklearn.svm import SVC\n",
    "svm = SVC(kernel = 'linear',C=1)"
   ]
  },
  {
   "cell_type": "code",
   "execution_count": 20,
   "metadata": {
    "pycharm": {
     "name": "#%%\n"
    }
   },
   "outputs": [],
   "source": [
    "models = [mnb,kNN,dtree,svm]\n",
    "models = [mnb,kNN,dtree]    # leave out svm, life is too short...\n",
    "folds = 4"
   ]
  },
  {
   "cell_type": "code",
   "execution_count": 21,
   "metadata": {
    "pycharm": {
     "name": "#%%\n"
    }
   },
   "outputs": [
    {
     "name": "stdout",
     "output_type": "stream",
     "text": [
      "F1 Measure\n"
     ]
    },
    {
     "name": "stderr",
     "output_type": "stream",
     "text": [
      "[Parallel(n_jobs=-1)]: Using backend LokyBackend with 8 concurrent workers.\n",
      "[Parallel(n_jobs=-1)]: Done   2 out of   4 | elapsed:    0.1s remaining:    0.1s\n",
      "[Parallel(n_jobs=-1)]: Done   4 out of   4 | elapsed:    0.4s remaining:    0.0s\n",
      "[Parallel(n_jobs=-1)]: Done   4 out of   4 | elapsed:    0.4s finished\n",
      "[Parallel(n_jobs=-1)]: Using backend LokyBackend with 8 concurrent workers.\n",
      "[Parallel(n_jobs=-1)]: Done   2 out of   4 | elapsed:    0.1s remaining:    0.1s\n"
     ]
    },
    {
     "name": "stdout",
     "output_type": "stream",
     "text": [
      "4 x CV GaussianNB             0.71\n"
     ]
    },
    {
     "name": "stderr",
     "output_type": "stream",
     "text": [
      "[Parallel(n_jobs=-1)]: Done   4 out of   4 | elapsed:    0.3s remaining:    0.0s\n",
      "[Parallel(n_jobs=-1)]: Done   4 out of   4 | elapsed:    0.3s finished\n",
      "[Parallel(n_jobs=-1)]: Using backend LokyBackend with 8 concurrent workers.\n",
      "[Parallel(n_jobs=-1)]: Done   2 out of   4 | elapsed:    0.0s remaining:    0.0s\n"
     ]
    },
    {
     "name": "stdout",
     "output_type": "stream",
     "text": [
      "4 x CV KNeighborsClassifier   0.73\n",
      "4 x CV DecisionTreeClassifier 0.73\n"
     ]
    },
    {
     "name": "stderr",
     "output_type": "stream",
     "text": [
      "[Parallel(n_jobs=-1)]: Done   4 out of   4 | elapsed:    0.3s remaining:    0.0s\n",
      "[Parallel(n_jobs=-1)]: Done   4 out of   4 | elapsed:    0.3s finished\n"
     ]
    }
   ],
   "source": [
    "print('F1 Measure')\n",
    "for m in models:\n",
    "    f1_scores = cross_val_score(m, X, y, cv=folds, scoring = 'f1', n_jobs=-1, verbose = 5)\n",
    "    print(\"{} x CV {:22} {:.2f}\".format(folds, type(m).__name__, f1_scores.mean())) "
   ]
  },
  {
   "cell_type": "markdown",
   "metadata": {
    "pycharm": {
     "name": "#%% md\n"
    }
   },
   "source": [
    "SVM still wins on F1 score. "
   ]
  },
  {
   "cell_type": "markdown",
   "metadata": {
    "pycharm": {
     "name": "#%% md\n"
    }
   },
   "source": [
    "## Precision & Recall"
   ]
  },
  {
   "cell_type": "code",
   "execution_count": 22,
   "metadata": {
    "pycharm": {
     "name": "#%%\n"
    }
   },
   "outputs": [
    {
     "name": "stdout",
     "output_type": "stream",
     "text": [
      "Precision\n",
      "4 x CV GaussianNB             0.72\n",
      "4 x CV KNeighborsClassifier   0.70\n",
      "4 x CV DecisionTreeClassifier 0.77\n"
     ]
    },
    {
     "name": "stderr",
     "output_type": "stream",
     "text": [
      "[Parallel(n_jobs=-1)]: Using backend LokyBackend with 8 concurrent workers.\n",
      "[Parallel(n_jobs=-1)]: Done   2 out of   4 | elapsed:    0.0s remaining:    0.0s\n",
      "[Parallel(n_jobs=-1)]: Done   4 out of   4 | elapsed:    0.0s remaining:    0.0s\n",
      "[Parallel(n_jobs=-1)]: Done   4 out of   4 | elapsed:    0.0s finished\n",
      "[Parallel(n_jobs=-1)]: Using backend LokyBackend with 8 concurrent workers.\n",
      "[Parallel(n_jobs=-1)]: Done   2 out of   4 | elapsed:    0.0s remaining:    0.0s\n",
      "[Parallel(n_jobs=-1)]: Done   4 out of   4 | elapsed:    0.0s remaining:    0.0s\n",
      "[Parallel(n_jobs=-1)]: Done   4 out of   4 | elapsed:    0.0s finished\n",
      "[Parallel(n_jobs=-1)]: Using backend LokyBackend with 8 concurrent workers.\n",
      "[Parallel(n_jobs=-1)]: Done   2 out of   4 | elapsed:    0.0s remaining:    0.0s\n",
      "[Parallel(n_jobs=-1)]: Done   4 out of   4 | elapsed:    0.0s remaining:    0.0s\n",
      "[Parallel(n_jobs=-1)]: Done   4 out of   4 | elapsed:    0.0s finished\n"
     ]
    }
   ],
   "source": [
    "print('Precision')\n",
    "for m in models:\n",
    "    f1_scores = cross_val_score(m, X, y, cv=folds, scoring = 'precision', n_jobs=-1, verbose = 5)\n",
    "    print(\"{} x CV {:22} {:.2f}\".format(folds, type(m).__name__, f1_scores.mean())) "
   ]
  },
  {
   "cell_type": "code",
   "execution_count": 23,
   "metadata": {
    "pycharm": {
     "name": "#%%\n"
    }
   },
   "outputs": [
    {
     "name": "stdout",
     "output_type": "stream",
     "text": [
      "Recall\n",
      "4 x CV GaussianNB             0.71\n",
      "4 x CV KNeighborsClassifier   0.76\n",
      "4 x CV DecisionTreeClassifier 0.72\n"
     ]
    },
    {
     "name": "stderr",
     "output_type": "stream",
     "text": [
      "[Parallel(n_jobs=-1)]: Using backend LokyBackend with 8 concurrent workers.\n",
      "[Parallel(n_jobs=-1)]: Done   2 out of   4 | elapsed:    0.0s remaining:    0.0s\n",
      "[Parallel(n_jobs=-1)]: Done   4 out of   4 | elapsed:    0.0s remaining:    0.0s\n",
      "[Parallel(n_jobs=-1)]: Done   4 out of   4 | elapsed:    0.0s finished\n",
      "[Parallel(n_jobs=-1)]: Using backend LokyBackend with 8 concurrent workers.\n",
      "[Parallel(n_jobs=-1)]: Done   2 out of   4 | elapsed:    0.0s remaining:    0.0s\n",
      "[Parallel(n_jobs=-1)]: Done   4 out of   4 | elapsed:    0.0s remaining:    0.0s\n",
      "[Parallel(n_jobs=-1)]: Done   4 out of   4 | elapsed:    0.0s finished\n",
      "[Parallel(n_jobs=-1)]: Using backend LokyBackend with 8 concurrent workers.\n",
      "[Parallel(n_jobs=-1)]: Done   2 out of   4 | elapsed:    0.0s remaining:    0.0s\n",
      "[Parallel(n_jobs=-1)]: Done   4 out of   4 | elapsed:    0.1s remaining:    0.0s\n",
      "[Parallel(n_jobs=-1)]: Done   4 out of   4 | elapsed:    0.1s finished\n"
     ]
    }
   ],
   "source": [
    "print('Recall')\n",
    "for m in models:\n",
    "    f1_scores = cross_val_score(m, X, y, cv=folds, scoring = 'recall', n_jobs=-1, verbose = 5)\n",
    "    print(\"{} x CV {:22} {:.2f}\".format(folds, type(m).__name__, f1_scores.mean())) "
   ]
  },
  {
   "cell_type": "markdown",
   "metadata": {
    "pycharm": {
     "name": "#%% md\n"
    }
   },
   "source": [
    "### ROC AUC analysis"
   ]
  },
  {
   "cell_type": "code",
   "execution_count": 24,
   "metadata": {
    "scrolled": true,
    "pycharm": {
     "name": "#%%\n"
    }
   },
   "outputs": [
    {
     "name": "stdout",
     "output_type": "stream",
     "text": [
      "ROC Analysis\n",
      "4 x CV GaussianNB             0.69\n",
      "4 x CV KNeighborsClassifier   0.63\n",
      "4 x CV DecisionTreeClassifier 0.68\n"
     ]
    }
   ],
   "source": [
    "folds = 4\n",
    "print('ROC Analysis')\n",
    "for m in models:\n",
    "    roc_scores = cross_val_score(m, X, y, cv=folds, scoring = 'roc_auc', n_jobs=-1)\n",
    "    print(\"{} x CV {:22} {:.2f}\".format(folds, type(m).__name__, roc_scores.mean())) "
   ]
  },
  {
   "cell_type": "markdown",
   "metadata": {
    "pycharm": {
     "name": "#%% md\n"
    }
   },
   "source": [
    "### Calculating TP & FP with cross validation\n",
    "The hold out validation shows that SVM has a very high FP rate. It has a strong bias towards the majority class (Helpful).   \n",
    "Here we get a cross-validation estimate of this FP rate.  \n",
    "To do this we have to make a scorer function to get the FP scores. "
   ]
  },
  {
   "cell_type": "code",
   "execution_count": 25,
   "metadata": {
    "pycharm": {
     "name": "#%%\n"
    }
   },
   "outputs": [],
   "source": [
    "from sklearn.model_selection import cross_validate\n",
    "from sklearn.metrics import make_scorer\n",
    "def tp(y_true, y_pred): return confusion_matrix(y_true, y_pred)[1, 1]\n",
    "def tn(y_true, y_pred): return confusion_matrix(y_true, y_pred)[0, 0]\n",
    "def fp(y_true, y_pred): return confusion_matrix(y_true, y_pred)[0, 1]\n",
    "def fn(y_true, y_pred): return confusion_matrix(y_true, y_pred)[1, 0]\n",
    "scoring = {'tp' : make_scorer(tp), 'tn' : make_scorer(tn),\n",
    "           'fp' : make_scorer(fp), 'fn' : make_scorer(fn)}\n",
    "\n",
    "models = [mnb,kNN,dtree,svm]\n",
    "models = [mnb,kNN,dtree]\n",
    "\n",
    "folds = 4\n",
    "v = 0 #  use 1 or 0"
   ]
  },
  {
   "cell_type": "code",
   "execution_count": 26,
   "metadata": {
    "pycharm": {
     "name": "#%%\n"
    }
   },
   "outputs": [
    {
     "name": "stdout",
     "output_type": "stream",
     "text": [
      "4 x CV GaussianNB             FP: 0.48  TP: 0.71\n",
      "4 x CV KNeighborsClassifier   FP: 0.57  TP: 0.76\n",
      "4 x CV DecisionTreeClassifier FP: 0.38  TP: 0.75\n"
     ]
    }
   ],
   "source": [
    "for m in models:\n",
    "    cv_results = cross_validate(m, X, y, cv= folds,scoring=scoring, return_train_score=False, \n",
    "                                    verbose = v, n_jobs = -1)\n",
    "    fp_rate = cv_results['test_fp'].sum()/(cv_results['test_fp'].sum()+cv_results['test_tn'].sum())\n",
    "    tp_rate = cv_results['test_tp'].sum()/(cv_results['test_tp'].sum()+cv_results['test_fn'].sum())\n",
    "  \n",
    "    print(\"{} x CV {:22} FP: {:.2f}  TP: {:.2f}\".format(folds, type(m).__name__, fp_rate, tp_rate)) \n"
   ]
  },
  {
   "cell_type": "markdown",
   "metadata": {
    "pycharm": {
     "name": "#%% md\n"
    }
   },
   "source": [
    "The one score SVM does not win on is the FP rate. This is because it has a strong positive bias. "
   ]
  }
 ],
 "metadata": {
  "kernelspec": {
   "display_name": "Python 3",
   "language": "python",
   "name": "python3"
  },
  "language_info": {
   "codemirror_mode": {
    "name": "ipython",
    "version": 3
   },
   "file_extension": ".py",
   "mimetype": "text/x-python",
   "name": "python",
   "nbconvert_exporter": "python",
   "pygments_lexer": "ipython3",
   "version": "3.8.3"
  }
 },
 "nbformat": 4,
 "nbformat_minor": 2
}