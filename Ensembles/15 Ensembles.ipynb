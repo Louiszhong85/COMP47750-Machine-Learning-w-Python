{
 "cells": [
  {
   "cell_type": "markdown",
   "metadata": {
    "pycharm": {
     "name": "#%% md\n"
    }
   },
   "source": [
    "# Ensembles\n",
    "1. Bagging  \n",
    "2. Random Subspace \n",
    "3. Boosting\n",
    "4. Feature Importance from Random Forests"
   ]
  },
  {
   "cell_type": "code",
   "execution_count": 1,
   "metadata": {
    "pycharm": {
     "name": "#%%\n"
    }
   },
   "outputs": [
    {
     "data": {
      "text/plain": "   aveHelpfulnessRatioUser  stdevHelpfulnessRatioUser  \\\n0                 1.000000                   0.000000   \n1                 0.772487                   0.377321   \n2                 0.715473                   0.300437   \n3                 0.521250                   0.481675   \n4                 0.603175                   0.246926   \n\n   pcReviewsExceedMinHelpfulnessSupport  numReviewsUser  numReviewsHotel  \\\n0                              0.666667               3               16   \n1                              0.500000              12              233   \n2                              0.833333              12              302   \n3                              0.222222              36                6   \n4                              1.000000               2              271   \n\n   ratingUser  numberSubRatingsUser  subRatingMeanUser  subRatingStdevUser  \\\n0           5                     4           4.000000            0.000000   \n1           5                     0           0.000000            0.000000   \n2           4                     7           3.714286            0.755929   \n3           1                     4           1.000000            0.000000   \n4           3                     0           0.000000            0.000000   \n\n   aveRatingUser  ...  completeness_2  completeness_3  numberTermsEntry  \\\n0       4.333333  ...               0               1               182   \n1       4.333333  ...               0               0               158   \n2       4.166667  ...               0               3                59   \n3       3.527778  ...               0               0                95   \n4       3.500000  ...               0               0                43   \n\n   percentageAlphaCharsEntry  fractionUpperCaseCharsEntry  \\\n0                   0.788474                     0.025703   \n1                   0.791888                     0.012594   \n2                   0.799639                     0.024831   \n3                   0.782212                     0.029155   \n4                   0.805128                     0.028662   \n\n   fractionYouVsIEntry  numberTermsSummaryQuote  \\\n0             0.500000                        6   \n1             0.500000                        1   \n2             0.333333                        4   \n3             0.500000                        2   \n4             0.000000                        1   \n\n   percentageAlphaCharsSummaryQuote  fractionUpperCaseCharsSummaryQuote  \\\n0                          0.815789                            0.096774   \n1                          1.000000                            0.083333   \n2                          0.828571                            0.034483   \n3                          0.800000                            0.062500   \n4                          1.000000                            0.142857   \n\n   reviewHelpfulness  \n0                  1  \n1                  1  \n2                  0  \n3                  0  \n4                  0  \n\n[5 rows x 24 columns]",
      "text/html": "<div>\n<style scoped>\n    .dataframe tbody tr th:only-of-type {\n        vertical-align: middle;\n    }\n\n    .dataframe tbody tr th {\n        vertical-align: top;\n    }\n\n    .dataframe thead th {\n        text-align: right;\n    }\n</style>\n<table border=\"1\" class=\"dataframe\">\n  <thead>\n    <tr style=\"text-align: right;\">\n      <th></th>\n      <th>aveHelpfulnessRatioUser</th>\n      <th>stdevHelpfulnessRatioUser</th>\n      <th>pcReviewsExceedMinHelpfulnessSupport</th>\n      <th>numReviewsUser</th>\n      <th>numReviewsHotel</th>\n      <th>ratingUser</th>\n      <th>numberSubRatingsUser</th>\n      <th>subRatingMeanUser</th>\n      <th>subRatingStdevUser</th>\n      <th>aveRatingUser</th>\n      <th>...</th>\n      <th>completeness_2</th>\n      <th>completeness_3</th>\n      <th>numberTermsEntry</th>\n      <th>percentageAlphaCharsEntry</th>\n      <th>fractionUpperCaseCharsEntry</th>\n      <th>fractionYouVsIEntry</th>\n      <th>numberTermsSummaryQuote</th>\n      <th>percentageAlphaCharsSummaryQuote</th>\n      <th>fractionUpperCaseCharsSummaryQuote</th>\n      <th>reviewHelpfulness</th>\n    </tr>\n  </thead>\n  <tbody>\n    <tr>\n      <th>0</th>\n      <td>1.000000</td>\n      <td>0.000000</td>\n      <td>0.666667</td>\n      <td>3</td>\n      <td>16</td>\n      <td>5</td>\n      <td>4</td>\n      <td>4.000000</td>\n      <td>0.000000</td>\n      <td>4.333333</td>\n      <td>...</td>\n      <td>0</td>\n      <td>1</td>\n      <td>182</td>\n      <td>0.788474</td>\n      <td>0.025703</td>\n      <td>0.500000</td>\n      <td>6</td>\n      <td>0.815789</td>\n      <td>0.096774</td>\n      <td>1</td>\n    </tr>\n    <tr>\n      <th>1</th>\n      <td>0.772487</td>\n      <td>0.377321</td>\n      <td>0.500000</td>\n      <td>12</td>\n      <td>233</td>\n      <td>5</td>\n      <td>0</td>\n      <td>0.000000</td>\n      <td>0.000000</td>\n      <td>4.333333</td>\n      <td>...</td>\n      <td>0</td>\n      <td>0</td>\n      <td>158</td>\n      <td>0.791888</td>\n      <td>0.012594</td>\n      <td>0.500000</td>\n      <td>1</td>\n      <td>1.000000</td>\n      <td>0.083333</td>\n      <td>1</td>\n    </tr>\n    <tr>\n      <th>2</th>\n      <td>0.715473</td>\n      <td>0.300437</td>\n      <td>0.833333</td>\n      <td>12</td>\n      <td>302</td>\n      <td>4</td>\n      <td>7</td>\n      <td>3.714286</td>\n      <td>0.755929</td>\n      <td>4.166667</td>\n      <td>...</td>\n      <td>0</td>\n      <td>3</td>\n      <td>59</td>\n      <td>0.799639</td>\n      <td>0.024831</td>\n      <td>0.333333</td>\n      <td>4</td>\n      <td>0.828571</td>\n      <td>0.034483</td>\n      <td>0</td>\n    </tr>\n    <tr>\n      <th>3</th>\n      <td>0.521250</td>\n      <td>0.481675</td>\n      <td>0.222222</td>\n      <td>36</td>\n      <td>6</td>\n      <td>1</td>\n      <td>4</td>\n      <td>1.000000</td>\n      <td>0.000000</td>\n      <td>3.527778</td>\n      <td>...</td>\n      <td>0</td>\n      <td>0</td>\n      <td>95</td>\n      <td>0.782212</td>\n      <td>0.029155</td>\n      <td>0.500000</td>\n      <td>2</td>\n      <td>0.800000</td>\n      <td>0.062500</td>\n      <td>0</td>\n    </tr>\n    <tr>\n      <th>4</th>\n      <td>0.603175</td>\n      <td>0.246926</td>\n      <td>1.000000</td>\n      <td>2</td>\n      <td>271</td>\n      <td>3</td>\n      <td>0</td>\n      <td>0.000000</td>\n      <td>0.000000</td>\n      <td>3.500000</td>\n      <td>...</td>\n      <td>0</td>\n      <td>0</td>\n      <td>43</td>\n      <td>0.805128</td>\n      <td>0.028662</td>\n      <td>0.000000</td>\n      <td>1</td>\n      <td>1.000000</td>\n      <td>0.142857</td>\n      <td>0</td>\n    </tr>\n  </tbody>\n</table>\n<p>5 rows × 24 columns</p>\n</div>"
     },
     "execution_count": 1,
     "metadata": {},
     "output_type": "execute_result"
    }
   ],
   "source": [
    "import pandas as pd\n",
    "hotel_rev_pd = pd.read_csv('HotelRevHelpfulnessV2.csv')\n",
    "hotel_rev_pd.head()"
   ]
  },
  {
   "cell_type": "code",
   "execution_count": 2,
   "metadata": {
    "pycharm": {
     "name": "#%%\n"
    }
   },
   "outputs": [
    {
     "data": {
      "text/plain": "(486, 23)"
     },
     "execution_count": 2,
     "metadata": {},
     "output_type": "execute_result"
    }
   ],
   "source": [
    "y = hotel_rev_pd.pop('reviewHelpfulness').values\n",
    "X = hotel_rev_pd.values\n",
    "X.shape"
   ]
  },
  {
   "cell_type": "code",
   "execution_count": 3,
   "metadata": {
    "pycharm": {
     "name": "#%%\n"
    }
   },
   "outputs": [],
   "source": [
    "from sklearn.neighbors import KNeighborsClassifier\n",
    "from sklearn.tree import DecisionTreeClassifier\n",
    "from sklearn.model_selection import cross_val_score, RepeatedKFold\n",
    "from sklearn.ensemble import BaggingClassifier\n",
    "\n",
    "kNN = KNeighborsClassifier(n_neighbors=3) \n",
    "dtree = DecisionTreeClassifier(criterion='entropy')"
   ]
  },
  {
   "cell_type": "markdown",
   "metadata": {
    "pycharm": {
     "name": "#%% md\n"
    }
   },
   "source": [
    "## Bagging\n",
    "Ensembles based on Bagging. \n",
    "- 10 ensemble members are trained using bootstrap resampling\n",
    "- Works for decision trees\n",
    "- Doesn't work for k-NN"
   ]
  },
  {
   "cell_type": "code",
   "execution_count": 4,
   "metadata": {
    "pycharm": {
     "name": "#%%\n"
    }
   },
   "outputs": [],
   "source": [
    "kNN_bag = BaggingClassifier(kNN, \n",
    "                            n_estimators = 10,\n",
    "                            max_samples = 1.0, \n",
    "                            bootstrap = True)\n",
    "\n",
    "tree_bag = BaggingClassifier(dtree, \n",
    "                            n_estimators = 10,\n",
    "                            max_samples = 1.0, # bootstrap resampling \n",
    "                            bootstrap = True)"
   ]
  },
  {
   "cell_type": "code",
   "execution_count": 5,
   "metadata": {
    "pycharm": {
     "name": "#%%\n"
    }
   },
   "outputs": [
    {
     "name": "stderr",
     "output_type": "stream",
     "text": [
      "[Parallel(n_jobs=-1)]: Using backend LokyBackend with 8 concurrent workers.\n",
      "[Parallel(n_jobs=-1)]: Done   2 tasks      | elapsed:    4.7s\n",
      "[Parallel(n_jobs=-1)]: Done   9 tasks      | elapsed:    4.8s\n",
      "[Parallel(n_jobs=-1)]: Done  16 tasks      | elapsed:    4.8s\n",
      "[Parallel(n_jobs=-1)]: Done  25 tasks      | elapsed:    4.8s\n",
      "[Parallel(n_jobs=-1)]: Batch computation too fast (0.1864s.) Setting batch_size=2.\n",
      "[Parallel(n_jobs=-1)]: Done  34 tasks      | elapsed:    4.8s\n",
      "[Parallel(n_jobs=-1)]: Done  45 tasks      | elapsed:    4.8s\n",
      "[Parallel(n_jobs=-1)]: Batch computation too fast (0.0207s.) Setting batch_size=4.\n",
      "[Parallel(n_jobs=-1)]: Done  56 out of  80 | elapsed:    4.8s remaining:    2.1s\n",
      "[Parallel(n_jobs=-1)]: Done  74 out of  80 | elapsed:    4.9s remaining:    0.4s\n",
      "[Parallel(n_jobs=-1)]: Done  80 out of  80 | elapsed:    4.9s finished\n",
      "[Parallel(n_jobs=-1)]: Using backend LokyBackend with 8 concurrent workers.\n",
      "[Parallel(n_jobs=-1)]: Batch computation too fast (0.1299s.) Setting batch_size=2.\n",
      "[Parallel(n_jobs=-1)]: Done   2 tasks      | elapsed:    0.1s\n",
      "[Parallel(n_jobs=-1)]: Done   9 tasks      | elapsed:    0.2s\n",
      "[Parallel(n_jobs=-1)]: Done  16 tasks      | elapsed:    0.2s\n",
      "[Parallel(n_jobs=-1)]: Batch computation too fast (0.1351s.) Setting batch_size=4.\n",
      "[Parallel(n_jobs=-1)]: Done  34 tasks      | elapsed:    0.4s\n",
      "[Parallel(n_jobs=-1)]: Done  38 out of  80 | elapsed:    0.4s remaining:    0.5s\n",
      "[Parallel(n_jobs=-1)]: Done  56 out of  80 | elapsed:    0.7s remaining:    0.3s\n",
      "[Parallel(n_jobs=-1)]: Done  80 out of  80 | elapsed:    0.7s finished\n",
      "[Parallel(n_jobs=-1)]: Using backend LokyBackend with 8 concurrent workers.\n",
      "[Parallel(n_jobs=-1)]: Batch computation too fast (0.0295s.) Setting batch_size=2.\n",
      "[Parallel(n_jobs=-1)]: Done   2 tasks      | elapsed:    0.0s\n",
      "[Parallel(n_jobs=-1)]: Done   9 tasks      | elapsed:    0.0s\n",
      "[Parallel(n_jobs=-1)]: Done  16 tasks      | elapsed:    0.1s\n",
      "[Parallel(n_jobs=-1)]: Batch computation too fast (0.0428s.) Setting batch_size=4.\n",
      "[Parallel(n_jobs=-1)]: Done  34 tasks      | elapsed:    0.1s\n",
      "[Parallel(n_jobs=-1)]: Done  38 out of  80 | elapsed:    0.1s remaining:    0.1s\n"
     ]
    },
    {
     "name": "stdout",
     "output_type": "stream",
     "text": [
      "Mean for kNN 0.63\n",
      "Mean for kNN_bag 0.63\n"
     ]
    },
    {
     "name": "stderr",
     "output_type": "stream",
     "text": [
      "[Parallel(n_jobs=-1)]: Done  56 out of  80 | elapsed:    0.2s remaining:    0.1s\n",
      "[Parallel(n_jobs=-1)]: Done  80 out of  80 | elapsed:    0.2s finished\n",
      "[Parallel(n_jobs=-1)]: Using backend LokyBackend with 8 concurrent workers.\n",
      "[Parallel(n_jobs=-1)]: Batch computation too fast (0.1075s.) Setting batch_size=2.\n",
      "[Parallel(n_jobs=-1)]: Done   2 tasks      | elapsed:    0.1s\n",
      "[Parallel(n_jobs=-1)]: Done   9 tasks      | elapsed:    0.2s\n",
      "[Parallel(n_jobs=-1)]: Done  16 tasks      | elapsed:    0.3s\n",
      "[Parallel(n_jobs=-1)]: Done  34 tasks      | elapsed:    0.8s\n",
      "[Parallel(n_jobs=-1)]: Done  56 out of  80 | elapsed:    1.1s remaining:    0.5s\n"
     ]
    },
    {
     "name": "stdout",
     "output_type": "stream",
     "text": [
      "Mean for D-Tree 0.65\n",
      "Mean for D_Tree_bag 0.70\n"
     ]
    },
    {
     "name": "stderr",
     "output_type": "stream",
     "text": [
      "[Parallel(n_jobs=-1)]: Done  74 out of  80 | elapsed:    1.3s remaining:    0.1s\n",
      "[Parallel(n_jobs=-1)]: Done  80 out of  80 | elapsed:    1.4s finished\n"
     ]
    }
   ],
   "source": [
    "folds = 8\n",
    "reps = 10\n",
    "v = 10\n",
    "cv=RepeatedKFold(n_repeats=reps, n_splits=folds)\n",
    "\n",
    "scores_kNN = cross_val_score(kNN, X, y, cv=cv, verbose = v, n_jobs = -1)\n",
    "scores_kNN_bag = cross_val_score(kNN_bag, X, y, cv=cv, verbose = v, n_jobs = -1)\n",
    "\n",
    "print(\"Mean for kNN {:.2f}\".format(scores_kNN.mean()))\n",
    "print(\"Mean for kNN_bag {:.2f}\".format(scores_kNN_bag.mean()))\n",
    "\n",
    "scores_tree = cross_val_score(dtree, X, y, cv=cv, verbose = v, n_jobs = -1)\n",
    "scores_tree_bag = cross_val_score(tree_bag, X, y, cv=cv, verbose = v, n_jobs = -1)\n",
    "\n",
    "print(\"Mean for D-Tree {:.2f}\".format(scores_tree.mean()))\n",
    "print(\"Mean for D_Tree_bag {:.2f}\".format(scores_tree_bag.mean()))"
   ]
  },
  {
   "cell_type": "markdown",
   "metadata": {
    "pycharm": {
     "name": "#%% md\n"
    }
   },
   "source": [
    "---\n",
    "## Random Subspace\n",
    "The evaluation above shows that bootstrap resampling works for decision tree ensembles but not for k-NN.   \n",
    "This is because k-NN is a *stable* classifier so boodstrap resampling does not produce diversity.  \n",
    "  \n",
    "However a random subspace strategy will produce diversity for k-NN.  \n",
    "In the examples below we generate an ensemble of 10 classifiers each trained using a subet of 50% of the features selected at random.\n"
   ]
  },
  {
   "cell_type": "code",
   "execution_count": 6,
   "metadata": {
    "pycharm": {
     "name": "#%%\n"
    }
   },
   "outputs": [],
   "source": [
    "random_SS_kNN = BaggingClassifier(kNN, \n",
    "                            n_estimators = 10,\n",
    "                            max_samples=1.0, \n",
    "                            max_features=0.5)\n",
    "\n",
    "random_SS_tree = BaggingClassifier(dtree, \n",
    "                            n_estimators = 10,\n",
    "                            max_samples=1.0, \n",
    "                            max_features=0.5)"
   ]
  },
  {
   "cell_type": "code",
   "execution_count": 7,
   "metadata": {
    "pycharm": {
     "name": "#%%\n"
    }
   },
   "outputs": [
    {
     "name": "stdout",
     "output_type": "stream",
     "text": [
      "Mean for kNN 0.63\n",
      "Mean for kNN_rand_SS 0.65\n",
      "Mean for D-Tree 0.65\n",
      "Mean for D_Tree_rand_SS 0.68\n"
     ]
    }
   ],
   "source": [
    "folds = 8\n",
    "reps = 10\n",
    "v = 0\n",
    "cv=RepeatedKFold(n_repeats=reps, n_splits=folds)\n",
    "\n",
    "scores_kNN = cross_val_score(kNN, X, y, cv=cv, verbose = v, n_jobs = -1)\n",
    "scores_kNN_rSS = cross_val_score(random_SS_kNN, X, y, cv=cv, verbose = v, n_jobs = -1)\n",
    "\n",
    "print(\"Mean for kNN {:.2f}\".format(scores_kNN.mean()))\n",
    "print(\"Mean for kNN_rand_SS {:.2f}\".format(scores_kNN_rSS.mean()))\n",
    "\n",
    "scores_tree = cross_val_score(dtree, X, y, cv=cv, verbose = v, n_jobs = -1)\n",
    "scores_tree_rSS = cross_val_score(random_SS_tree, X, y, cv=cv, verbose = v, n_jobs = -1)\n",
    "\n",
    "print(\"Mean for D-Tree {:.2f}\".format(scores_tree.mean()))\n",
    "print(\"Mean for D_Tree_rand_SS {:.2f}\".format(scores_tree_rSS.mean()))"
   ]
  },
  {
   "cell_type": "markdown",
   "metadata": {
    "pycharm": {
     "name": "#%% md\n"
    }
   },
   "source": [
    "---\n",
    "## Boosting\n",
    "Default classifier is a Decision Tree of depth 1, a decision stump."
   ]
  },
  {
   "cell_type": "code",
   "execution_count": 8,
   "metadata": {
    "pycharm": {
     "name": "#%%\n"
    }
   },
   "outputs": [
    {
     "data": {
      "text/plain": "0.7261612021857924"
     },
     "execution_count": 8,
     "metadata": {},
     "output_type": "execute_result"
    }
   ],
   "source": [
    "from sklearn.ensemble import AdaBoostClassifier\n",
    "\n",
    "adaBoost = AdaBoostClassifier(n_estimators=100, algorithm = 'SAMME')\n",
    "scores_adaBoost = cross_val_score(adaBoost, X, y, cv=folds, verbose = v, n_jobs = -1)\n",
    "\n",
    "scores_adaBoost.mean()  "
   ]
  },
  {
   "cell_type": "code",
   "execution_count": 9,
   "metadata": {
    "pycharm": {
     "name": "#%%\n"
    }
   },
   "outputs": [
    {
     "data": {
      "text/plain": "array([0.85514873, 0.43004882, 0.48229211, 0.4657541 , 0.12063232,\n       0.35198136, 0.23122383, 0.13955368, 0.13043829, 0.12244209])"
     },
     "execution_count": 9,
     "metadata": {},
     "output_type": "execute_result"
    }
   ],
   "source": [
    "# Train Adaboost on all data and check weights for first 10 models\n",
    "ab = adaBoost.fit(X,y)\n",
    "ab.estimator_weights_[:10]"
   ]
  },
  {
   "cell_type": "code",
   "execution_count": 10,
   "metadata": {
    "pycharm": {
     "name": "#%%\n"
    }
   },
   "outputs": [
    {
     "data": {
      "text/plain": "Text(0, 0.5, 'Error & Weight')"
     },
     "execution_count": 10,
     "metadata": {},
     "output_type": "execute_result"
    },
    {
     "data": {
      "text/plain": "<Figure size 432x288 with 1 Axes>",
      "image/png": "[encoded data removed]"
     },
     "metadata": {
      "needs_background": "light"
     },
     "output_type": "display_data"
    }
   ],
   "source": [
    "import matplotlib.pyplot as plt\n",
    "plt.plot(ab.estimator_errors_, label='Errors')\n",
    "plt.plot(ab.estimator_weights_, label='Weights')\n",
    "plt.legend()\n",
    "plt.xlabel(\"Iteration\")\n",
    "plt.ylabel(\"Error & Weight\")"
   ]
  },
  {
   "cell_type": "markdown",
   "metadata": {
    "pycharm": {
     "name": "#%% md\n"
    }
   },
   "source": [
    "---\n",
    "<h1><span style=\"color:red\">Bonus Material</span></h1>\n",
    "\n",
    "## Random Forest Feature Importance\n",
    "As a side effect of building so many decision trees Random Forest is able to provide an estimate of feature importance. "
   ]
  },
  {
   "cell_type": "code",
   "execution_count": 11,
   "metadata": {
    "pycharm": {
     "name": "#%%\n"
    }
   },
   "outputs": [
    {
     "data": {
      "text/plain": "RandomForestClassifier(max_depth=2, random_state=0)"
     },
     "execution_count": 11,
     "metadata": {},
     "output_type": "execute_result"
    }
   ],
   "source": [
    "from sklearn.ensemble import RandomForestClassifier\n",
    "RF = RandomForestClassifier(n_estimators=100, max_depth=2, random_state=0)\n",
    "RF.fit(X,y)"
   ]
  },
  {
   "cell_type": "code",
   "execution_count": 12,
   "metadata": {
    "pycharm": {
     "name": "#%%\n"
    }
   },
   "outputs": [
    {
     "data": {
      "text/plain": "array([0.13977995, 0.07287126, 0.1386167 , 0.14194925, 0.09146311,\n       0.02520643, 0.00569735, 0.09172209, 0.01547085, 0.0297604 ,\n       0.09322251, 0.01832222, 0.00742457, 0.00367284, 0.00173408,\n       0.01795823, 0.03945371, 0.02390862, 0.00893415, 0.00999277,\n       0.00418041, 0.00671372, 0.0119448 ])"
     },
     "execution_count": 12,
     "metadata": {},
     "output_type": "execute_result"
    }
   ],
   "source": [
    "RF.feature_importances_"
   ]
  },
  {
   "cell_type": "code",
   "execution_count": 13,
   "metadata": {
    "pycharm": {
     "name": "#%%\n"
    }
   },
   "outputs": [
    {
     "data": {
      "text/plain": "                                      FI Score\nnumReviewsUser                        0.141949\naveHelpfulnessRatioUser               0.139780\npcReviewsExceedMinHelpfulnessSupport  0.138617\nstdevRatingUser                       0.093223\nsubRatingMeanUser                     0.091722\nnumReviewsHotel                       0.091463\nstdevHelpfulnessRatioUser             0.072871\nnumberTermsEntry                      0.039454\naveRatingUser                         0.029760\nratingUser                            0.025206\npercentageAlphaCharsEntry             0.023909\naveRatingHotel                        0.018322\ncompleteness_3                        0.017958\nsubRatingStdevUser                    0.015471\nfractionUpperCaseCharsSummaryQuote    0.011945\nfractionYouVsIEntry                   0.009993\nfractionUpperCaseCharsEntry           0.008934\nstdevRatingHotel                      0.007425\npercentageAlphaCharsSummaryQuote      0.006714\nnumberSubRatingsUser                  0.005697\nnumberTermsSummaryQuote               0.004180\ncompleteness_1                        0.003673\ncompleteness_2                        0.001734",
      "text/html": "<div>\n<style scoped>\n    .dataframe tbody tr th:only-of-type {\n        vertical-align: middle;\n    }\n\n    .dataframe tbody tr th {\n        vertical-align: top;\n    }\n\n    .dataframe thead th {\n        text-align: right;\n    }\n</style>\n<table border=\"1\" class=\"dataframe\">\n  <thead>\n    <tr style=\"text-align: right;\">\n      <th></th>\n      <th>FI Score</th>\n    </tr>\n  </thead>\n  <tbody>\n    <tr>\n      <th>numReviewsUser</th>\n      <td>0.141949</td>\n    </tr>\n    <tr>\n      <th>aveHelpfulnessRatioUser</th>\n      <td>0.139780</td>\n    </tr>\n    <tr>\n      <th>pcReviewsExceedMinHelpfulnessSupport</th>\n      <td>0.138617</td>\n    </tr>\n    <tr>\n      <th>stdevRatingUser</th>\n      <td>0.093223</td>\n    </tr>\n    <tr>\n      <th>subRatingMeanUser</th>\n      <td>0.091722</td>\n    </tr>\n    <tr>\n      <th>numReviewsHotel</th>\n      <td>0.091463</td>\n    </tr>\n    <tr>\n      <th>stdevHelpfulnessRatioUser</th>\n      <td>0.072871</td>\n    </tr>\n    <tr>\n      <th>numberTermsEntry</th>\n      <td>0.039454</td>\n    </tr>\n    <tr>\n      <th>aveRatingUser</th>\n      <td>0.029760</td>\n    </tr>\n    <tr>\n      <th>ratingUser</th>\n      <td>0.025206</td>\n    </tr>\n    <tr>\n      <th>percentageAlphaCharsEntry</th>\n      <td>0.023909</td>\n    </tr>\n    <tr>\n      <th>aveRatingHotel</th>\n      <td>0.018322</td>\n    </tr>\n    <tr>\n      <th>completeness_3</th>\n      <td>0.017958</td>\n    </tr>\n    <tr>\n      <th>subRatingStdevUser</th>\n      <td>0.015471</td>\n    </tr>\n    <tr>\n      <th>fractionUpperCaseCharsSummaryQuote</th>\n      <td>0.011945</td>\n    </tr>\n    <tr>\n      <th>fractionYouVsIEntry</th>\n      <td>0.009993</td>\n    </tr>\n    <tr>\n      <th>fractionUpperCaseCharsEntry</th>\n      <td>0.008934</td>\n    </tr>\n    <tr>\n      <th>stdevRatingHotel</th>\n      <td>0.007425</td>\n    </tr>\n    <tr>\n      <th>percentageAlphaCharsSummaryQuote</th>\n      <td>0.006714</td>\n    </tr>\n    <tr>\n      <th>numberSubRatingsUser</th>\n      <td>0.005697</td>\n    </tr>\n    <tr>\n      <th>numberTermsSummaryQuote</th>\n      <td>0.004180</td>\n    </tr>\n    <tr>\n      <th>completeness_1</th>\n      <td>0.003673</td>\n    </tr>\n    <tr>\n      <th>completeness_2</th>\n      <td>0.001734</td>\n    </tr>\n  </tbody>\n</table>\n</div>"
     },
     "execution_count": 13,
     "metadata": {},
     "output_type": "execute_result"
    }
   ],
   "source": [
    "FI_df = pd.DataFrame(RF.feature_importances_, index=hotel_rev_pd.columns,columns =['FI Score'])\n",
    "FI_df.sort_values('FI Score', inplace=True, ascending = False)\n",
    "FI_df"
   ]
  },
  {
   "cell_type": "code",
   "execution_count": 14,
   "metadata": {
    "pycharm": {
     "name": "#%%\n"
    }
   },
   "outputs": [
    {
     "data": {
      "text/plain": "Text(0, 0.5, 'Feature Importance')"
     },
     "execution_count": 14,
     "metadata": {},
     "output_type": "execute_result"
    },
    {
     "data": {
      "text/plain": "<Figure size 720x360 with 1 Axes>",
      "image/png": "[encoded data removed]"
     },
     "metadata": {
      "needs_background": "light"
     },
     "output_type": "display_data"
    }
   ],
   "source": [
    "%matplotlib inline\n",
    "pl = FI_df.plot.bar(figsize=(10,5))\n",
    "pl.set_ylabel(\"Feature Importance\")"
   ]
  },
  {
   "cell_type": "code",
   "execution_count": 14,
   "metadata": {
    "pycharm": {
     "name": "#%%\n"
    }
   },
   "outputs": [],
   "source": []
  },
  {
   "cell_type": "code",
   "execution_count": 14,
   "metadata": {
    "pycharm": {
     "name": "#%%\n"
    }
   },
   "outputs": [],
   "source": []
  }
 ],
 "metadata": {
  "kernelspec": {
   "display_name": "Python 3",
   "language": "python",
   "name": "python3"
  },
  "language_info": {
   "codemirror_mode": {
    "name": "ipython",
    "version": 3
   },
   "file_extension": ".py",
   "mimetype": "text/x-python",
   "name": "python",
   "nbconvert_exporter": "python",
   "pygments_lexer": "ipython3",
   "version": "3.8.8"
  }
 },
 "nbformat": 4,
 "nbformat_minor": 2
}