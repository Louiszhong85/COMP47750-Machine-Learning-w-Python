{
 "cells": [
  {
   "cell_type": "markdown",
   "metadata": {
    "pycharm": {
     "name": "#%% md\n"
    }
   },
   "source": [
    "# 12 Regression Exercise\n",
    "### Q1\n",
    "Assess the performance on the bike sharing dataset of Linear Regression models that use:\n",
    "- ‘temp’ as the only input variable (`X = bikes_df[['temp']].values`)\n",
    "- ‘hum’ as the only input\n",
    "- all features except ‘casual’, ‘registered', ‘instant’ and ‘dteday’\n",
    "(as set up in notebook 12 Regression Part 2)\n",
    "\n",
    "Use all the data for training and test.  \n",
    "You may use LinearRegression or SGDRegressor.  \n",
    "Score performance using R2, MAPE and `mean_absolute_error`.  "
   ]
  },
  {
   "cell_type": "code",
   "execution_count": null,
   "metadata": {
    "pycharm": {
     "name": "#%%\n"
    }
   },
   "outputs": [],
   "source": [
    "import pandas as pd\n",
    "import numpy as np\n",
    "from sklearn.metrics import mean_absolute_percentage_error as MAPE\n",
    "\n",
    "bikes_df = pd.read_csv('bike_sharing.csv')\n",
    "\n",
    "y = bikes_df.pop('count').values\n",
    "bikes_df.pop('casual').values\n",
    "bikes_df.pop('registered').values\n",
    "bikes_df.pop('instant').values\n",
    "bikes_df.pop('dteday').values\n",
    "\n",
    "X_all = bikes_df.values"
   ]
  },
  {
   "cell_type": "code",
   "execution_count": null,
   "metadata": {
    "pycharm": {
     "name": "#%%\n"
    }
   },
   "outputs": [],
   "source": [
    "from sklearn.preprocessing import StandardScaler\n",
    "X_all_scal = StandardScaler().fit_transform(X_all)"
   ]
  },
  {
   "cell_type": "code",
   "execution_count": null,
   "metadata": {
    "pycharm": {
     "name": "#%%\n"
    }
   },
   "outputs": [],
   "source": [
    "from sklearn.linear_model import SGDRegressor\n",
    "SGD_all = SGDRegressor(max_iter=50, tol=1e-3).fit(X_all_scal, y)"
   ]
  },
  {
   "cell_type": "code",
   "execution_count": null,
   "metadata": {
    "pycharm": {
     "name": "#%%\n"
    }
   },
   "outputs": [],
   "source": [
    "from sklearn.metrics import mean_absolute_error\n",
    "\n",
    "print('All - R squared: {:.2f}'.format(SGD_all.score(X_all_scal, y)))\n",
    "print()\n",
    "print('All - MAE: {:.2f}'.format(mean_absolute_error(y, SGD_all.predict(X_all_scal))))\n",
    "print()\n",
    "print('All - MAPE: {:.2f}'.format(MAPE(y, SGD_all.predict(X_all_scal))))"
   ]
  },
  {
   "cell_type": "markdown",
   "metadata": {
    "pycharm": {
     "name": "#%% md\n"
    }
   },
   "source": [
    "### Q2\n",
    "For the bike sharing dataset, the weather features are normalized but the calendar features are not. Find the regression coefficients for the following models:\n",
    "1. Partially normalized: i.e. original format with only the weather features normalized. (provided in notebook 12 Regression Exercise). \n",
    "2. Fully normalized: (also provided) - what happens to the `mnth` coefficient? \n",
    "3. A model that uses only the normlaized `temp` and `mnth` features - what has happened to the mnth coefficient?\n",
    "\n"
   ]
  },
  {
   "cell_type": "code",
   "execution_count": null,
   "metadata": {
    "pycharm": {
     "name": "#%%\n"
    }
   },
   "outputs": [],
   "source": [
    "X_all = bikes_df"
   ]
  },
  {
   "cell_type": "code",
   "execution_count": null,
   "metadata": {
    "pycharm": {
     "name": "#%%\n"
    }
   },
   "outputs": [],
   "source": [
    "X_all.head()"
   ]
  },
  {
   "cell_type": "code",
   "execution_count": null,
   "metadata": {
    "pycharm": {
     "name": "#%%\n"
    }
   },
   "outputs": [],
   "source": [
    "SGD_all_raw = SGDRegressor(tol=1e-3).fit(X_all, y)"
   ]
  },
  {
   "cell_type": "code",
   "execution_count": null,
   "metadata": {
    "pycharm": {
     "name": "#%%\n"
    }
   },
   "outputs": [],
   "source": [
    "for i,j in zip(SGD_all_raw.coef_, X_all.columns):\n",
    "    print(i,j)"
   ]
  },
  {
   "cell_type": "markdown",
   "metadata": {
    "pycharm": {
     "name": "#%% md\n"
    }
   },
   "source": [
    "**2.2.** Fully normalized: (also provided) - what happens to the `mnth` coefficient? "
   ]
  },
  {
   "cell_type": "code",
   "execution_count": null,
   "metadata": {
    "pycharm": {
     "name": "#%%\n"
    }
   },
   "outputs": [],
   "source": [
    "X_all_scal = StandardScaler().fit_transform(X_all)"
   ]
  },
  {
   "cell_type": "code",
   "execution_count": null,
   "metadata": {
    "pycharm": {
     "name": "#%%\n"
    }
   },
   "outputs": [],
   "source": [
    "SGD_all_scal = SGDRegressor(tol=1e-3).fit(X_all_scal, y)\n",
    "for i,j in zip(SGD_all_scal.coef_, bikes_df.columns):\n",
    "    print(i,j)"
   ]
  },
  {
   "cell_type": "markdown",
   "metadata": {
    "pycharm": {
     "name": "#%% md\n"
    }
   },
   "source": [
    "**2.3.** A model that uses only the normlaized `temp` and `mnth` features - what has happend to the `mnth` coefficient?\n"
   ]
  },
  {
   "cell_type": "code",
   "execution_count": null,
   "metadata": {
    "pycharm": {
     "name": "#%%\n"
    }
   },
   "outputs": [],
   "source": [
    "X_mt = bikes_df[['mnth', 'temp']]"
   ]
  }
 ],
 "metadata": {
  "kernelspec": {
   "display_name": "Python 3",
   "language": "python",
   "name": "python3"
  },
  "language_info": {
   "codemirror_mode": {
    "name": "ipython",
    "version": 3
   },
   "file_extension": ".py",
   "mimetype": "text/x-python",
   "name": "python",
   "nbconvert_exporter": "python",
   "pygments_lexer": "ipython3",
   "version": "3.8.8"
  }
 },
 "nbformat": 4,
 "nbformat_minor": 2
}